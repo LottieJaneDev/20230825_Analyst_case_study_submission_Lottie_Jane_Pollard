{
 "cells": [
  {
   "cell_type": "code",
   "execution_count": 1,
   "metadata": {
    "collapsed": true,
    "ExecuteTime": {
     "end_time": "2023-08-25T18:12:26.665772Z",
     "start_time": "2023-08-25T18:12:25.770260Z"
    }
   },
   "outputs": [],
   "source": [
    "# import pandas to read the Excel spreadsheet into a dataframe\n",
    "import pandas as pd"
   ]
  },
  {
   "cell_type": "code",
   "execution_count": 2,
   "outputs": [
    {
     "data": {
      "text/plain": "    Order ID  Customer ID  Order Date Order Time  Item Serial Box Type  \\\n0    1097342       733603  22/08/2021      00:14        30351    Small   \n1    1097343       405061  22/08/2021      07:08        17634    Small   \n2    1097344       842139  22/08/2021      10:15        25598    Small   \n3    1097345       211806  22/08/2021      17:05        10104    Small   \n4    1097346       103222  22/08/2021      23:48         3252    Small   \n5    1097347       603400  22/08/2021      23:57        62831    Small   \n6    1097348       837737  23/08/2021      02:11        90766    Large   \n7    1097349       334749  23/08/2021      04:43        93186    Large   \n8    1097350       239710  23/08/2021      11:49        99590    Large   \n9    1097351       730371  23/08/2021      14:03        39952    Small   \n10   1097352       870782  23/08/2021      19:03        20624    Small   \n11   1097353       697945  23/08/2021      20:34        23747    Small   \n12   1097354       862722  23/08/2021      21:56        32892    Small   \n13   1097355       701155  24/08/2021      01:24        92044    Large   \n14   1097356       932823  24/08/2021      04:54         3194    Small   \n15   1097357       569115  24/08/2021      07:20        12419    Small   \n16   1097358       630457  24/08/2021      10:23        21721    Small   \n17   1097359       212427  24/08/2021      12:40        51071    Small   \n18   1097360       326432  24/08/2021      13:13        91003    Large   \n19   1097361       103222  24/08/2021      13:25        17655    Small   \n\n   Delivery Region  Distance (miles)  \n0       South East                70  \n1   Greater London                32  \n2       South West               190  \n3       South West                85  \n4   Greater London                43  \n5   Greater London                33  \n6    West Midlands               143  \n7   Greater London                45  \n8       North East               210  \n9       South West               110  \n10      South East                72  \n11      South East                67  \n12     South Wales               171  \n13  Greater London                38  \n14     South Wales               244  \n15   West Midlands               159  \n16   East Midlands                83  \n17      South East                76  \n18  Greater London                24  \n19      South East                67  ",
      "text/html": "<div>\n<style scoped>\n    .dataframe tbody tr th:only-of-type {\n        vertical-align: middle;\n    }\n\n    .dataframe tbody tr th {\n        vertical-align: top;\n    }\n\n    .dataframe thead th {\n        text-align: right;\n    }\n</style>\n<table border=\"1\" class=\"dataframe\">\n  <thead>\n    <tr style=\"text-align: right;\">\n      <th></th>\n      <th>Order ID</th>\n      <th>Customer ID</th>\n      <th>Order Date</th>\n      <th>Order Time</th>\n      <th>Item Serial</th>\n      <th>Box Type</th>\n      <th>Delivery Region</th>\n      <th>Distance (miles)</th>\n    </tr>\n  </thead>\n  <tbody>\n    <tr>\n      <th>0</th>\n      <td>1097342</td>\n      <td>733603</td>\n      <td>22/08/2021</td>\n      <td>00:14</td>\n      <td>30351</td>\n      <td>Small</td>\n      <td>South East</td>\n      <td>70</td>\n    </tr>\n    <tr>\n      <th>1</th>\n      <td>1097343</td>\n      <td>405061</td>\n      <td>22/08/2021</td>\n      <td>07:08</td>\n      <td>17634</td>\n      <td>Small</td>\n      <td>Greater London</td>\n      <td>32</td>\n    </tr>\n    <tr>\n      <th>2</th>\n      <td>1097344</td>\n      <td>842139</td>\n      <td>22/08/2021</td>\n      <td>10:15</td>\n      <td>25598</td>\n      <td>Small</td>\n      <td>South West</td>\n      <td>190</td>\n    </tr>\n    <tr>\n      <th>3</th>\n      <td>1097345</td>\n      <td>211806</td>\n      <td>22/08/2021</td>\n      <td>17:05</td>\n      <td>10104</td>\n      <td>Small</td>\n      <td>South West</td>\n      <td>85</td>\n    </tr>\n    <tr>\n      <th>4</th>\n      <td>1097346</td>\n      <td>103222</td>\n      <td>22/08/2021</td>\n      <td>23:48</td>\n      <td>3252</td>\n      <td>Small</td>\n      <td>Greater London</td>\n      <td>43</td>\n    </tr>\n    <tr>\n      <th>5</th>\n      <td>1097347</td>\n      <td>603400</td>\n      <td>22/08/2021</td>\n      <td>23:57</td>\n      <td>62831</td>\n      <td>Small</td>\n      <td>Greater London</td>\n      <td>33</td>\n    </tr>\n    <tr>\n      <th>6</th>\n      <td>1097348</td>\n      <td>837737</td>\n      <td>23/08/2021</td>\n      <td>02:11</td>\n      <td>90766</td>\n      <td>Large</td>\n      <td>West Midlands</td>\n      <td>143</td>\n    </tr>\n    <tr>\n      <th>7</th>\n      <td>1097349</td>\n      <td>334749</td>\n      <td>23/08/2021</td>\n      <td>04:43</td>\n      <td>93186</td>\n      <td>Large</td>\n      <td>Greater London</td>\n      <td>45</td>\n    </tr>\n    <tr>\n      <th>8</th>\n      <td>1097350</td>\n      <td>239710</td>\n      <td>23/08/2021</td>\n      <td>11:49</td>\n      <td>99590</td>\n      <td>Large</td>\n      <td>North East</td>\n      <td>210</td>\n    </tr>\n    <tr>\n      <th>9</th>\n      <td>1097351</td>\n      <td>730371</td>\n      <td>23/08/2021</td>\n      <td>14:03</td>\n      <td>39952</td>\n      <td>Small</td>\n      <td>South West</td>\n      <td>110</td>\n    </tr>\n    <tr>\n      <th>10</th>\n      <td>1097352</td>\n      <td>870782</td>\n      <td>23/08/2021</td>\n      <td>19:03</td>\n      <td>20624</td>\n      <td>Small</td>\n      <td>South East</td>\n      <td>72</td>\n    </tr>\n    <tr>\n      <th>11</th>\n      <td>1097353</td>\n      <td>697945</td>\n      <td>23/08/2021</td>\n      <td>20:34</td>\n      <td>23747</td>\n      <td>Small</td>\n      <td>South East</td>\n      <td>67</td>\n    </tr>\n    <tr>\n      <th>12</th>\n      <td>1097354</td>\n      <td>862722</td>\n      <td>23/08/2021</td>\n      <td>21:56</td>\n      <td>32892</td>\n      <td>Small</td>\n      <td>South Wales</td>\n      <td>171</td>\n    </tr>\n    <tr>\n      <th>13</th>\n      <td>1097355</td>\n      <td>701155</td>\n      <td>24/08/2021</td>\n      <td>01:24</td>\n      <td>92044</td>\n      <td>Large</td>\n      <td>Greater London</td>\n      <td>38</td>\n    </tr>\n    <tr>\n      <th>14</th>\n      <td>1097356</td>\n      <td>932823</td>\n      <td>24/08/2021</td>\n      <td>04:54</td>\n      <td>3194</td>\n      <td>Small</td>\n      <td>South Wales</td>\n      <td>244</td>\n    </tr>\n    <tr>\n      <th>15</th>\n      <td>1097357</td>\n      <td>569115</td>\n      <td>24/08/2021</td>\n      <td>07:20</td>\n      <td>12419</td>\n      <td>Small</td>\n      <td>West Midlands</td>\n      <td>159</td>\n    </tr>\n    <tr>\n      <th>16</th>\n      <td>1097358</td>\n      <td>630457</td>\n      <td>24/08/2021</td>\n      <td>10:23</td>\n      <td>21721</td>\n      <td>Small</td>\n      <td>East Midlands</td>\n      <td>83</td>\n    </tr>\n    <tr>\n      <th>17</th>\n      <td>1097359</td>\n      <td>212427</td>\n      <td>24/08/2021</td>\n      <td>12:40</td>\n      <td>51071</td>\n      <td>Small</td>\n      <td>South East</td>\n      <td>76</td>\n    </tr>\n    <tr>\n      <th>18</th>\n      <td>1097360</td>\n      <td>326432</td>\n      <td>24/08/2021</td>\n      <td>13:13</td>\n      <td>91003</td>\n      <td>Large</td>\n      <td>Greater London</td>\n      <td>24</td>\n    </tr>\n    <tr>\n      <th>19</th>\n      <td>1097361</td>\n      <td>103222</td>\n      <td>24/08/2021</td>\n      <td>13:25</td>\n      <td>17655</td>\n      <td>Small</td>\n      <td>South East</td>\n      <td>67</td>\n    </tr>\n  </tbody>\n</table>\n</div>"
     },
     "execution_count": 2,
     "metadata": {},
     "output_type": "execute_result"
    }
   ],
   "source": [
    "# import Mr Haulage data\n",
    "haulage_df = pd.read_excel('mr_haulage_order_details.xlsx')\n",
    "\n",
    "# config display settings\n",
    "pd.set_option('display.max.columns', None, 'display.width', None, 'display.max.colwidth', None)\n",
    "\n",
    "# print sample df to see what we're working with\n",
    "haulage_df.head(20)"
   ],
   "metadata": {
    "collapsed": false,
    "ExecuteTime": {
     "end_time": "2023-08-25T18:12:30.365605Z",
     "start_time": "2023-08-25T18:12:29.705934Z"
    }
   }
  },
  {
   "cell_type": "code",
   "execution_count": 10,
   "outputs": [
    {
     "data": {
      "text/plain": "'haulage_df has 2000 rows & 8 columns'"
     },
     "execution_count": 10,
     "metadata": {},
     "output_type": "execute_result"
    }
   ],
   "source": [
    "# check the shape of the df\n",
    "f\"haulage_df has {haulage_df.shape[0]} rows & {haulage_df.shape[1]} columns\""
   ],
   "metadata": {
    "collapsed": false,
    "ExecuteTime": {
     "end_time": "2023-08-25T18:18:52.319796Z",
     "start_time": "2023-08-25T18:18:52.314513Z"
    }
   }
  },
  {
   "cell_type": "code",
   "execution_count": 6,
   "outputs": [
    {
     "data": {
      "text/plain": "order_id            object\ncustomer_id         object\norder_date          object\norder_time          object\nitem_serial         object\nbox_type            object\ndelivery_region     object\ndistance_(miles)    object\ndtype: object"
     },
     "execution_count": 6,
     "metadata": {},
     "output_type": "execute_result"
    }
   ],
   "source": [
    "# check the data types\n",
    "haulage_df.dtypes"
   ],
   "metadata": {
    "collapsed": false,
    "ExecuteTime": {
     "end_time": "2023-08-25T18:13:13.087564Z",
     "start_time": "2023-08-25T18:13:13.079434Z"
    }
   }
  },
  {
   "cell_type": "code",
   "execution_count": 4,
   "outputs": [
    {
     "data": {
      "text/plain": "  order_id customer_id  order_date order_time item_serial box_type  \\\n0  1097342      733603  22/08/2021      00:14       30351    small   \n1  1097343      405061  22/08/2021      07:08       17634    small   \n2  1097344      842139  22/08/2021      10:15       25598    small   \n3  1097345      211806  22/08/2021      17:05       10104    small   \n4  1097346      103222  22/08/2021      23:48        3252    small   \n\n  delivery_region distance_(miles)  \n0      south_east               70  \n1  greater_london               32  \n2      south_west              190  \n3      south_west               85  \n4  greater_london               43  ",
      "text/html": "<div>\n<style scoped>\n    .dataframe tbody tr th:only-of-type {\n        vertical-align: middle;\n    }\n\n    .dataframe tbody tr th {\n        vertical-align: top;\n    }\n\n    .dataframe thead th {\n        text-align: right;\n    }\n</style>\n<table border=\"1\" class=\"dataframe\">\n  <thead>\n    <tr style=\"text-align: right;\">\n      <th></th>\n      <th>order_id</th>\n      <th>customer_id</th>\n      <th>order_date</th>\n      <th>order_time</th>\n      <th>item_serial</th>\n      <th>box_type</th>\n      <th>delivery_region</th>\n      <th>distance_(miles)</th>\n    </tr>\n  </thead>\n  <tbody>\n    <tr>\n      <th>0</th>\n      <td>1097342</td>\n      <td>733603</td>\n      <td>22/08/2021</td>\n      <td>00:14</td>\n      <td>30351</td>\n      <td>small</td>\n      <td>south_east</td>\n      <td>70</td>\n    </tr>\n    <tr>\n      <th>1</th>\n      <td>1097343</td>\n      <td>405061</td>\n      <td>22/08/2021</td>\n      <td>07:08</td>\n      <td>17634</td>\n      <td>small</td>\n      <td>greater_london</td>\n      <td>32</td>\n    </tr>\n    <tr>\n      <th>2</th>\n      <td>1097344</td>\n      <td>842139</td>\n      <td>22/08/2021</td>\n      <td>10:15</td>\n      <td>25598</td>\n      <td>small</td>\n      <td>south_west</td>\n      <td>190</td>\n    </tr>\n    <tr>\n      <th>3</th>\n      <td>1097345</td>\n      <td>211806</td>\n      <td>22/08/2021</td>\n      <td>17:05</td>\n      <td>10104</td>\n      <td>small</td>\n      <td>south_west</td>\n      <td>85</td>\n    </tr>\n    <tr>\n      <th>4</th>\n      <td>1097346</td>\n      <td>103222</td>\n      <td>22/08/2021</td>\n      <td>23:48</td>\n      <td>3252</td>\n      <td>small</td>\n      <td>greater_london</td>\n      <td>43</td>\n    </tr>\n  </tbody>\n</table>\n</div>"
     },
     "execution_count": 4,
     "metadata": {},
     "output_type": "execute_result"
    }
   ],
   "source": [
    "# convert column names to lowercase and replace whitespace with underscores\n",
    "haulage_df.columns = haulage_df.columns.str.lower().str.replace(' ', '_')\n",
    "\n",
    "# Convert columns to a string type\n",
    "haulage_df = haulage_df.astype(str)\n",
    "\n",
    "# Convert row values to lowercase and replace whitespace with underscores\n",
    "haulage_df = haulage_df.apply(lambda x: x.str.lower().str.replace(' ', '_'))\n",
    "\n",
    "haulage_df.head()"
   ],
   "metadata": {
    "collapsed": false,
    "ExecuteTime": {
     "end_time": "2023-08-25T18:13:02.775314Z",
     "start_time": "2023-08-25T18:13:02.748115Z"
    }
   }
  },
  {
   "cell_type": "code",
   "execution_count": 5,
   "outputs": [
    {
     "data": {
      "text/plain": "     order_id customer_id  order_date order_time item_serial box_type  \\\n377   1097719      378716  01/01/2022      07:39       39886    small   \n1725  1099067      439570  01/01/2023      03:51       76996    large   \n1726  1099068      117777  01/01/2023      18:41       15262    small   \n436   1097778      769510  01/02/2022      01:45       93601    large   \n437   1097779      153229  01/02/2022      02:34       62821    small   \n...       ...         ...         ...        ...         ...      ...   \n1567  1098909      718142  31/10/2022      15:55       19031    small   \n1563  1098905      314081  31/10/2022      00:23       60931    small   \n1565  1098907      887271  31/10/2022      09:01       86762    large   \n376   1097718      276730  31/12/2021      11:05       13104    small   \n1724  1099066      664124  31/12/2022      06:45        7445    small   \n\n     delivery_region distance_(miles)  \n377   greater_london               22  \n1725   east_midlands               90  \n1726  greater_london               20  \n436    east_midlands              114  \n437    east_midlands              119  \n...              ...              ...  \n1567  greater_london               37  \n1563  greater_london               21  \n1565      north_east              267  \n376      south_wales              168  \n1724   east_midlands               45  \n\n[2000 rows x 8 columns]",
      "text/html": "<div>\n<style scoped>\n    .dataframe tbody tr th:only-of-type {\n        vertical-align: middle;\n    }\n\n    .dataframe tbody tr th {\n        vertical-align: top;\n    }\n\n    .dataframe thead th {\n        text-align: right;\n    }\n</style>\n<table border=\"1\" class=\"dataframe\">\n  <thead>\n    <tr style=\"text-align: right;\">\n      <th></th>\n      <th>order_id</th>\n      <th>customer_id</th>\n      <th>order_date</th>\n      <th>order_time</th>\n      <th>item_serial</th>\n      <th>box_type</th>\n      <th>delivery_region</th>\n      <th>distance_(miles)</th>\n    </tr>\n  </thead>\n  <tbody>\n    <tr>\n      <th>377</th>\n      <td>1097719</td>\n      <td>378716</td>\n      <td>01/01/2022</td>\n      <td>07:39</td>\n      <td>39886</td>\n      <td>small</td>\n      <td>greater_london</td>\n      <td>22</td>\n    </tr>\n    <tr>\n      <th>1725</th>\n      <td>1099067</td>\n      <td>439570</td>\n      <td>01/01/2023</td>\n      <td>03:51</td>\n      <td>76996</td>\n      <td>large</td>\n      <td>east_midlands</td>\n      <td>90</td>\n    </tr>\n    <tr>\n      <th>1726</th>\n      <td>1099068</td>\n      <td>117777</td>\n      <td>01/01/2023</td>\n      <td>18:41</td>\n      <td>15262</td>\n      <td>small</td>\n      <td>greater_london</td>\n      <td>20</td>\n    </tr>\n    <tr>\n      <th>436</th>\n      <td>1097778</td>\n      <td>769510</td>\n      <td>01/02/2022</td>\n      <td>01:45</td>\n      <td>93601</td>\n      <td>large</td>\n      <td>east_midlands</td>\n      <td>114</td>\n    </tr>\n    <tr>\n      <th>437</th>\n      <td>1097779</td>\n      <td>153229</td>\n      <td>01/02/2022</td>\n      <td>02:34</td>\n      <td>62821</td>\n      <td>small</td>\n      <td>east_midlands</td>\n      <td>119</td>\n    </tr>\n    <tr>\n      <th>...</th>\n      <td>...</td>\n      <td>...</td>\n      <td>...</td>\n      <td>...</td>\n      <td>...</td>\n      <td>...</td>\n      <td>...</td>\n      <td>...</td>\n    </tr>\n    <tr>\n      <th>1567</th>\n      <td>1098909</td>\n      <td>718142</td>\n      <td>31/10/2022</td>\n      <td>15:55</td>\n      <td>19031</td>\n      <td>small</td>\n      <td>greater_london</td>\n      <td>37</td>\n    </tr>\n    <tr>\n      <th>1563</th>\n      <td>1098905</td>\n      <td>314081</td>\n      <td>31/10/2022</td>\n      <td>00:23</td>\n      <td>60931</td>\n      <td>small</td>\n      <td>greater_london</td>\n      <td>21</td>\n    </tr>\n    <tr>\n      <th>1565</th>\n      <td>1098907</td>\n      <td>887271</td>\n      <td>31/10/2022</td>\n      <td>09:01</td>\n      <td>86762</td>\n      <td>large</td>\n      <td>north_east</td>\n      <td>267</td>\n    </tr>\n    <tr>\n      <th>376</th>\n      <td>1097718</td>\n      <td>276730</td>\n      <td>31/12/2021</td>\n      <td>11:05</td>\n      <td>13104</td>\n      <td>small</td>\n      <td>south_wales</td>\n      <td>168</td>\n    </tr>\n    <tr>\n      <th>1724</th>\n      <td>1099066</td>\n      <td>664124</td>\n      <td>31/12/2022</td>\n      <td>06:45</td>\n      <td>7445</td>\n      <td>small</td>\n      <td>east_midlands</td>\n      <td>45</td>\n    </tr>\n  </tbody>\n</table>\n<p>2000 rows × 8 columns</p>\n</div>"
     },
     "execution_count": 5,
     "metadata": {},
     "output_type": "execute_result"
    }
   ],
   "source": [
    "haulage_df = haulage_df.sort_values(by='order_date', ascending=True)\n",
    "\n",
    "haulage_df"
   ],
   "metadata": {
    "collapsed": false,
    "ExecuteTime": {
     "end_time": "2023-08-25T18:13:06.635037Z",
     "start_time": "2023-08-25T18:13:06.613817Z"
    }
   }
  },
  {
   "cell_type": "code",
   "execution_count": 16,
   "outputs": [
    {
     "data": {
      "text/plain": "['order_id',\n 'customer_id',\n 'order_date',\n 'order_time',\n 'item_serial',\n 'box_type',\n 'delivery_region',\n 'distance_(miles)']"
     },
     "execution_count": 16,
     "metadata": {},
     "output_type": "execute_result"
    }
   ],
   "source": [
    "columns = haulage_df.columns.tolist()\n",
    "columns"
   ],
   "metadata": {
    "collapsed": false,
    "ExecuteTime": {
     "end_time": "2023-08-25T18:23:06.323563Z",
     "start_time": "2023-08-25T18:23:06.308612Z"
    }
   }
  },
  {
   "cell_type": "code",
   "execution_count": 30,
   "outputs": [
    {
     "name": "stdout",
     "output_type": "stream",
     "text": [
      "There are 2000 unique values in order_id column\n",
      "There are 1792 unique values in customer_id column\n",
      "There are 597 unique values in order_date column\n",
      "There are 1083 unique values in order_time column\n",
      "There are 1982 unique values in item_serial column\n",
      "There are 2 unique values in box_type column\n",
      "There are 8 unique values in delivery_region column\n",
      "There are 289 unique values in distance_(miles) column\n"
     ]
    }
   ],
   "source": [
    "messages = []\n",
    "for col in columns:\n",
    "    unique_count = haulage_df[col].nunique()\n",
    "    messages.append(f\"There are {unique_count} unique values in {col} column\")\n",
    "\n",
    "for message in messages:\n",
    "    print(message)\n"
   ],
   "metadata": {
    "collapsed": false,
    "ExecuteTime": {
     "end_time": "2023-08-25T18:50:40.433913Z",
     "start_time": "2023-08-25T18:50:40.420269Z"
    }
   }
  },
  {
   "cell_type": "code",
   "execution_count": 23,
   "outputs": [
    {
     "data": {
      "text/plain": "                 count unique             top  freq\norder_id          2000   2000         1097719     1\ncustomer_id       2000   1792          103222   106\norder_date        2000    597      24/08/2021    10\norder_time        2000   1083           10:35     7\nitem_serial       2000   1982           29435     2\nbox_type          2000      2           small  1511\ndelivery_region   2000      8  greater_london   629\ndistance_(miles)  2000    289              45    40",
      "text/html": "<div>\n<style scoped>\n    .dataframe tbody tr th:only-of-type {\n        vertical-align: middle;\n    }\n\n    .dataframe tbody tr th {\n        vertical-align: top;\n    }\n\n    .dataframe thead th {\n        text-align: right;\n    }\n</style>\n<table border=\"1\" class=\"dataframe\">\n  <thead>\n    <tr style=\"text-align: right;\">\n      <th></th>\n      <th>count</th>\n      <th>unique</th>\n      <th>top</th>\n      <th>freq</th>\n    </tr>\n  </thead>\n  <tbody>\n    <tr>\n      <th>order_id</th>\n      <td>2000</td>\n      <td>2000</td>\n      <td>1097719</td>\n      <td>1</td>\n    </tr>\n    <tr>\n      <th>customer_id</th>\n      <td>2000</td>\n      <td>1792</td>\n      <td>103222</td>\n      <td>106</td>\n    </tr>\n    <tr>\n      <th>order_date</th>\n      <td>2000</td>\n      <td>597</td>\n      <td>24/08/2021</td>\n      <td>10</td>\n    </tr>\n    <tr>\n      <th>order_time</th>\n      <td>2000</td>\n      <td>1083</td>\n      <td>10:35</td>\n      <td>7</td>\n    </tr>\n    <tr>\n      <th>item_serial</th>\n      <td>2000</td>\n      <td>1982</td>\n      <td>29435</td>\n      <td>2</td>\n    </tr>\n    <tr>\n      <th>box_type</th>\n      <td>2000</td>\n      <td>2</td>\n      <td>small</td>\n      <td>1511</td>\n    </tr>\n    <tr>\n      <th>delivery_region</th>\n      <td>2000</td>\n      <td>8</td>\n      <td>greater_london</td>\n      <td>629</td>\n    </tr>\n    <tr>\n      <th>distance_(miles)</th>\n      <td>2000</td>\n      <td>289</td>\n      <td>45</td>\n      <td>40</td>\n    </tr>\n  </tbody>\n</table>\n</div>"
     },
     "execution_count": 23,
     "metadata": {},
     "output_type": "execute_result"
    }
   ],
   "source": [
    "# .t transpose\n",
    "\n",
    "description_df = haulage_df.describe().T\n",
    "description_df"
   ],
   "metadata": {
    "collapsed": false,
    "ExecuteTime": {
     "end_time": "2023-08-25T18:32:40.105225Z",
     "start_time": "2023-08-25T18:32:40.066245Z"
    }
   }
  },
  {
   "cell_type": "code",
   "execution_count": 24,
   "outputs": [
    {
     "data": {
      "text/plain": "order_id            2000\ncustomer_id         1792\norder_date           597\norder_time          1083\nitem_serial         1982\nbox_type               2\ndelivery_region        8\ndistance_(miles)     289\ndtype: int64"
     },
     "execution_count": 24,
     "metadata": {},
     "output_type": "execute_result"
    }
   ],
   "source": [
    "haulage_df.nunique()"
   ],
   "metadata": {
    "collapsed": false,
    "ExecuteTime": {
     "end_time": "2023-08-25T18:38:29.844627Z",
     "start_time": "2023-08-25T18:38:29.818685Z"
    }
   }
  },
  {
   "cell_type": "code",
   "execution_count": null,
   "outputs": [],
   "source": [
    "# convert date data to 'datetime64'\n",
    "haulage_df['order_date'] = pd.to_datetime(haulage_df['order_date'], format='%d/%m/%Y')\n",
    "\n",
    "# convert time data to 'datetime64'\n",
    "haulage_df['order_time'] = pd.to_datetime(haulage_df['order_time'], format='%H:%M')\n",
    "\n",
    "# Format to only show hour and minute, and convert back to string\n",
    "haulage_df['order_time'] = haulage_df['order_time'].dt.strftime('%H:%M')\n",
    "\n",
    "haulage_df.head()"
   ],
   "metadata": {
    "collapsed": false
   }
  },
  {
   "cell_type": "code",
   "execution_count": null,
   "outputs": [],
   "source": [
    "haulage_df.dtypes"
   ],
   "metadata": {
    "collapsed": false
   }
  },
  {
   "cell_type": "code",
   "execution_count": null,
   "outputs": [],
   "source": [
    "# uniform format for string type data\n",
    "haulage_df[['box_type', 'delivery_region']] = haulage_df[['box_type', 'delivery_region']].apply(lambda x: x.str.lower().str.replace(' ', '_'))\n",
    "\n",
    "haulage_df.head()"
   ],
   "metadata": {
    "collapsed": false
   }
  },
  {
   "cell_type": "code",
   "execution_count": null,
   "outputs": [],
   "source": [
    "haulage_df.dtypes"
   ],
   "metadata": {
    "collapsed": false
   }
  },
  {
   "cell_type": "code",
   "execution_count": null,
   "outputs": [],
   "source": [
    "# Display the count of NaN values for each column\n",
    "nan_counts = haulage_df.isnull().sum(axis=0)\n",
    "print(nan_counts)"
   ],
   "metadata": {
    "collapsed": false
   }
  },
  {
   "cell_type": "code",
   "execution_count": null,
   "outputs": [],
   "source": [
    "# No. of orders per customer_id\n",
    "customer_id_order_count = haulage_df['customer_id'].value_counts()\n",
    "customer_id_order_count"
   ],
   "metadata": {
    "collapsed": false
   }
  },
  {
   "cell_type": "code",
   "execution_count": null,
   "outputs": [],
   "source": [
    "# check for duplicate rows (criteria = same order_id & customer_id)\n",
    "\n",
    "duplicates = haulage_df[haulage_df.duplicated(subset=['order_id', 'customer_id'], keep=False)]\n",
    "\n",
    "print(f\"There are {len(duplicates)} duplicates in the dataframe.\")\n",
    "\n",
    "duplicates"
   ],
   "metadata": {
    "collapsed": false
   }
  },
  {
   "cell_type": "markdown",
   "source": [
    "### The data is pretty clean etc. ready to analyse different areas"
   ],
   "metadata": {
    "collapsed": false
   }
  },
  {
   "cell_type": "code",
   "execution_count": null,
   "outputs": [],
   "source": [
    "# create new columns to analyse seasonal trends & year-on-year trends\n",
    "\n",
    "year_values = haulage_df['order_date'].dt.year\n",
    "month_values = haulage_df['order_date'].dt.month\n",
    "\n",
    "haulage_df.insert(4, 'order_year', year_values)\n",
    "haulage_df.insert(5, 'order_mont', month_values)\n",
    "haulage_df.head()\n"
   ],
   "metadata": {
    "collapsed": false
   }
  },
  {
   "cell_type": "code",
   "execution_count": null,
   "outputs": [],
   "source": [
    "year_counts = haulage_df['year'].value_counts()\n",
    "month_counts = haulage_df['month'].value_counts()\n",
    "\n",
    "year_counts"
   ],
   "metadata": {
    "collapsed": false
   }
  }
 ],
 "metadata": {
  "kernelspec": {
   "display_name": "Python 3",
   "language": "python",
   "name": "python3"
  },
  "language_info": {
   "codemirror_mode": {
    "name": "ipython",
    "version": 2
   },
   "file_extension": ".py",
   "mimetype": "text/x-python",
   "name": "python",
   "nbconvert_exporter": "python",
   "pygments_lexer": "ipython2",
   "version": "2.7.6"
  }
 },
 "nbformat": 4,
 "nbformat_minor": 0
}
