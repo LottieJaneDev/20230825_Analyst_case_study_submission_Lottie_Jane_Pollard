{
 "cells": [
  {
   "cell_type": "markdown",
   "source": [
    "# Mr Haulage - Exploratory Data Analysis\n",
    "## Author: Lottie Jane Pollard\n",
    "\n",
    "*\"Data matters. Data is the way we measure progress.\" - Hilary Mason*\n",
    "*\"Without data, you're just another person with an opinion.\" - W. Edwards Deming*"
   ],
   "metadata": {
    "collapsed": false
   }
  },
  {
   "cell_type": "code",
   "execution_count": 1,
   "outputs": [],
   "source": [
    "# listing libraries to import\n",
    "\n",
    "import pandas as pd\n",
    "import math\n",
    "import numpy as np\n",
    "import matplotlib.pyplot as plt\n",
    "import seaborn as sns"
   ],
   "metadata": {
    "collapsed": false,
    "ExecuteTime": {
     "end_time": "2023-08-28T14:28:51.243801Z",
     "start_time": "2023-08-28T14:28:51.238453Z"
    }
   }
  },
  {
   "cell_type": "code",
   "execution_count": 2,
   "outputs": [
    {
     "data": {
      "text/plain": "    order_id  customer_id order_date order_time  item_serial box_type  \\\n0    1097342       733603 2021-08-22      00:14        30351    small   \n1    1097343       405061 2021-08-22      07:08        17634    small   \n2    1097344       842139 2021-08-22      10:15        25598    small   \n3    1097345       211806 2021-08-22      17:05        10104    small   \n4    1097346       103222 2021-08-22      23:48         3252    small   \n5    1097347       603400 2021-08-22      23:57        62831    small   \n6    1097354       862722 2021-08-23      21:56        32892    small   \n7    1097353       697945 2021-08-23      20:34        23747    small   \n8    1097352       870782 2021-08-23      19:03        20624    small   \n9    1097350       239710 2021-08-23      11:49        99590    large   \n10   1097349       334749 2021-08-23      04:43        93186    large   \n11   1097348       837737 2021-08-23      02:11        90766    large   \n12   1097351       730371 2021-08-23      14:03        39952    small   \n13   1097361       103222 2021-08-24      13:25        17655    small   \n14   1097364       559521 2021-08-24      23:38        11270    small   \n15   1097363       899112 2021-08-24      22:17        80954    large   \n16   1097362       800908 2021-08-24      18:31        17431    small   \n17   1097360       326432 2021-08-24      13:13        91003    large   \n18   1097358       630457 2021-08-24      10:23        21721    small   \n19   1097357       569115 2021-08-24      07:20        12419    small   \n20   1097356       932823 2021-08-24      04:54         3194    small   \n21   1097355       701155 2021-08-24      01:24        92044    large   \n22   1097359       212427 2021-08-24      12:40        51071    small   \n23   1097365       281402 2021-08-25      01:13        23845    small   \n24   1097366       322715 2021-08-25      07:41         7180    small   \n25   1097367       796456 2021-08-25      12:54        66018    small   \n26   1097368       988770 2021-08-25      13:17        47086    small   \n27   1097369       706131 2021-08-25      16:39        85902    large   \n28   1097370       405990 2021-08-25      21:27        55428    small   \n29   1097371       378756 2021-08-25      22:02        37832    small   \n30   1097376       142521 2021-08-26      21:15        42169    small   \n31   1097377       261311 2021-08-26      22:10        78409    large   \n32   1097375       260338 2021-08-26      13:26        24960    small   \n33   1097372       170561 2021-08-26      03:19        84189    large   \n34   1097373       188318 2021-08-26      07:55        77674    large   \n35   1097374       892013 2021-08-26      11:23        41953    small   \n36   1097378       950702 2021-08-27      00:50        19359    small   \n37   1097379       104011 2021-08-27      07:10        78514    large   \n38   1097380       458412 2021-08-27      07:30        68757    small   \n39   1097381       104011 2021-08-27      10:44        33761    small   \n40   1097382       270488 2021-08-27      17:19        59264    small   \n41   1097383       979973 2021-08-27      18:05        97018    large   \n42   1097384       103222 2021-08-27      20:35        69138    small   \n43   1097388       635746 2021-08-28      17:48        50632    small   \n44   1097387       488070 2021-08-28      13:43        37670    small   \n45   1097389       636700 2021-08-28      23:06        39555    small   \n46   1097385       104011 2021-08-28      02:41        96646    large   \n47   1097386       617548 2021-08-28      05:53        95223    large   \n48   1097390       366566 2021-08-29      01:50        23145    small   \n49   1097391       340083 2021-08-29      05:44        52588    small   \n\n   delivery_region  distance_(miles)  order_week order_month  order_year  \\\n0       south_east                70          33      August        2021   \n1   greater_london                32          33      August        2021   \n2       south_west               190          33      August        2021   \n3       south_west                85          33      August        2021   \n4   greater_london                43          33      August        2021   \n5   greater_london                33          33      August        2021   \n6      south_wales               171          34      August        2021   \n7       south_east                67          34      August        2021   \n8       south_east                72          34      August        2021   \n9       north_east               210          34      August        2021   \n10  greater_london                45          34      August        2021   \n11   west_midlands               143          34      August        2021   \n12      south_west               110          34      August        2021   \n13      south_east                67          34      August        2021   \n14      north_east               292          34      August        2021   \n15      south_east                68          34      August        2021   \n16  greater_london                49          34      August        2021   \n17  greater_london                24          34      August        2021   \n18   east_midlands                83          34      August        2021   \n19   west_midlands               159          34      August        2021   \n20     south_wales               244          34      August        2021   \n21  greater_london                38          34      August        2021   \n22      south_east                76          34      August        2021   \n23   west_midlands               118          34      August        2021   \n24      south_east                79          34      August        2021   \n25   east_midlands               119          34      August        2021   \n26     north_wales               210          34      August        2021   \n27      south_east                44          34      August        2021   \n28  greater_london                19          34      August        2021   \n29      south_east                49          34      August        2021   \n30  greater_london                13          34      August        2021   \n31  greater_london                 5          34      August        2021   \n32   west_midlands               125          34      August        2021   \n33      south_east                59          34      August        2021   \n34  greater_london                25          34      August        2021   \n35   west_midlands               107          34      August        2021   \n36  greater_london                25          34      August        2021   \n37   east_midlands                52          34      August        2021   \n38      south_east                44          34      August        2021   \n39   east_midlands                42          34      August        2021   \n40      south_west               271          34      August        2021   \n41  greater_london                16          34      August        2021   \n42      south_west               110          34      August        2021   \n43      south_west               191          34      August        2021   \n44  greater_london                40          34      August        2021   \n45      south_west               192          34      August        2021   \n46   east_midlands                82          34      August        2021   \n47  greater_london                32          34      August        2021   \n48      north_east               197          34      August        2021   \n49     north_wales               280          34      August        2021   \n\n   financial_quarter  \n0                 Q3  \n1                 Q3  \n2                 Q3  \n3                 Q3  \n4                 Q3  \n5                 Q3  \n6                 Q3  \n7                 Q3  \n8                 Q3  \n9                 Q3  \n10                Q3  \n11                Q3  \n12                Q3  \n13                Q3  \n14                Q3  \n15                Q3  \n16                Q3  \n17                Q3  \n18                Q3  \n19                Q3  \n20                Q3  \n21                Q3  \n22                Q3  \n23                Q3  \n24                Q3  \n25                Q3  \n26                Q3  \n27                Q3  \n28                Q3  \n29                Q3  \n30                Q3  \n31                Q3  \n32                Q3  \n33                Q3  \n34                Q3  \n35                Q3  \n36                Q3  \n37                Q3  \n38                Q3  \n39                Q3  \n40                Q3  \n41                Q3  \n42                Q3  \n43                Q3  \n44                Q3  \n45                Q3  \n46                Q3  \n47                Q3  \n48                Q3  \n49                Q3  ",
      "text/html": "<div>\n<style scoped>\n    .dataframe tbody tr th:only-of-type {\n        vertical-align: middle;\n    }\n\n    .dataframe tbody tr th {\n        vertical-align: top;\n    }\n\n    .dataframe thead th {\n        text-align: right;\n    }\n</style>\n<table border=\"1\" class=\"dataframe\">\n  <thead>\n    <tr style=\"text-align: right;\">\n      <th></th>\n      <th>order_id</th>\n      <th>customer_id</th>\n      <th>order_date</th>\n      <th>order_time</th>\n      <th>item_serial</th>\n      <th>box_type</th>\n      <th>delivery_region</th>\n      <th>distance_(miles)</th>\n      <th>order_week</th>\n      <th>order_month</th>\n      <th>order_year</th>\n      <th>financial_quarter</th>\n    </tr>\n  </thead>\n  <tbody>\n    <tr>\n      <th>0</th>\n      <td>1097342</td>\n      <td>733603</td>\n      <td>2021-08-22</td>\n      <td>00:14</td>\n      <td>30351</td>\n      <td>small</td>\n      <td>south_east</td>\n      <td>70</td>\n      <td>33</td>\n      <td>August</td>\n      <td>2021</td>\n      <td>Q3</td>\n    </tr>\n    <tr>\n      <th>1</th>\n      <td>1097343</td>\n      <td>405061</td>\n      <td>2021-08-22</td>\n      <td>07:08</td>\n      <td>17634</td>\n      <td>small</td>\n      <td>greater_london</td>\n      <td>32</td>\n      <td>33</td>\n      <td>August</td>\n      <td>2021</td>\n      <td>Q3</td>\n    </tr>\n    <tr>\n      <th>2</th>\n      <td>1097344</td>\n      <td>842139</td>\n      <td>2021-08-22</td>\n      <td>10:15</td>\n      <td>25598</td>\n      <td>small</td>\n      <td>south_west</td>\n      <td>190</td>\n      <td>33</td>\n      <td>August</td>\n      <td>2021</td>\n      <td>Q3</td>\n    </tr>\n    <tr>\n      <th>3</th>\n      <td>1097345</td>\n      <td>211806</td>\n      <td>2021-08-22</td>\n      <td>17:05</td>\n      <td>10104</td>\n      <td>small</td>\n      <td>south_west</td>\n      <td>85</td>\n      <td>33</td>\n      <td>August</td>\n      <td>2021</td>\n      <td>Q3</td>\n    </tr>\n    <tr>\n      <th>4</th>\n      <td>1097346</td>\n      <td>103222</td>\n      <td>2021-08-22</td>\n      <td>23:48</td>\n      <td>3252</td>\n      <td>small</td>\n      <td>greater_london</td>\n      <td>43</td>\n      <td>33</td>\n      <td>August</td>\n      <td>2021</td>\n      <td>Q3</td>\n    </tr>\n    <tr>\n      <th>5</th>\n      <td>1097347</td>\n      <td>603400</td>\n      <td>2021-08-22</td>\n      <td>23:57</td>\n      <td>62831</td>\n      <td>small</td>\n      <td>greater_london</td>\n      <td>33</td>\n      <td>33</td>\n      <td>August</td>\n      <td>2021</td>\n      <td>Q3</td>\n    </tr>\n    <tr>\n      <th>6</th>\n      <td>1097354</td>\n      <td>862722</td>\n      <td>2021-08-23</td>\n      <td>21:56</td>\n      <td>32892</td>\n      <td>small</td>\n      <td>south_wales</td>\n      <td>171</td>\n      <td>34</td>\n      <td>August</td>\n      <td>2021</td>\n      <td>Q3</td>\n    </tr>\n    <tr>\n      <th>7</th>\n      <td>1097353</td>\n      <td>697945</td>\n      <td>2021-08-23</td>\n      <td>20:34</td>\n      <td>23747</td>\n      <td>small</td>\n      <td>south_east</td>\n      <td>67</td>\n      <td>34</td>\n      <td>August</td>\n      <td>2021</td>\n      <td>Q3</td>\n    </tr>\n    <tr>\n      <th>8</th>\n      <td>1097352</td>\n      <td>870782</td>\n      <td>2021-08-23</td>\n      <td>19:03</td>\n      <td>20624</td>\n      <td>small</td>\n      <td>south_east</td>\n      <td>72</td>\n      <td>34</td>\n      <td>August</td>\n      <td>2021</td>\n      <td>Q3</td>\n    </tr>\n    <tr>\n      <th>9</th>\n      <td>1097350</td>\n      <td>239710</td>\n      <td>2021-08-23</td>\n      <td>11:49</td>\n      <td>99590</td>\n      <td>large</td>\n      <td>north_east</td>\n      <td>210</td>\n      <td>34</td>\n      <td>August</td>\n      <td>2021</td>\n      <td>Q3</td>\n    </tr>\n    <tr>\n      <th>10</th>\n      <td>1097349</td>\n      <td>334749</td>\n      <td>2021-08-23</td>\n      <td>04:43</td>\n      <td>93186</td>\n      <td>large</td>\n      <td>greater_london</td>\n      <td>45</td>\n      <td>34</td>\n      <td>August</td>\n      <td>2021</td>\n      <td>Q3</td>\n    </tr>\n    <tr>\n      <th>11</th>\n      <td>1097348</td>\n      <td>837737</td>\n      <td>2021-08-23</td>\n      <td>02:11</td>\n      <td>90766</td>\n      <td>large</td>\n      <td>west_midlands</td>\n      <td>143</td>\n      <td>34</td>\n      <td>August</td>\n      <td>2021</td>\n      <td>Q3</td>\n    </tr>\n    <tr>\n      <th>12</th>\n      <td>1097351</td>\n      <td>730371</td>\n      <td>2021-08-23</td>\n      <td>14:03</td>\n      <td>39952</td>\n      <td>small</td>\n      <td>south_west</td>\n      <td>110</td>\n      <td>34</td>\n      <td>August</td>\n      <td>2021</td>\n      <td>Q3</td>\n    </tr>\n    <tr>\n      <th>13</th>\n      <td>1097361</td>\n      <td>103222</td>\n      <td>2021-08-24</td>\n      <td>13:25</td>\n      <td>17655</td>\n      <td>small</td>\n      <td>south_east</td>\n      <td>67</td>\n      <td>34</td>\n      <td>August</td>\n      <td>2021</td>\n      <td>Q3</td>\n    </tr>\n    <tr>\n      <th>14</th>\n      <td>1097364</td>\n      <td>559521</td>\n      <td>2021-08-24</td>\n      <td>23:38</td>\n      <td>11270</td>\n      <td>small</td>\n      <td>north_east</td>\n      <td>292</td>\n      <td>34</td>\n      <td>August</td>\n      <td>2021</td>\n      <td>Q3</td>\n    </tr>\n    <tr>\n      <th>15</th>\n      <td>1097363</td>\n      <td>899112</td>\n      <td>2021-08-24</td>\n      <td>22:17</td>\n      <td>80954</td>\n      <td>large</td>\n      <td>south_east</td>\n      <td>68</td>\n      <td>34</td>\n      <td>August</td>\n      <td>2021</td>\n      <td>Q3</td>\n    </tr>\n    <tr>\n      <th>16</th>\n      <td>1097362</td>\n      <td>800908</td>\n      <td>2021-08-24</td>\n      <td>18:31</td>\n      <td>17431</td>\n      <td>small</td>\n      <td>greater_london</td>\n      <td>49</td>\n      <td>34</td>\n      <td>August</td>\n      <td>2021</td>\n      <td>Q3</td>\n    </tr>\n    <tr>\n      <th>17</th>\n      <td>1097360</td>\n      <td>326432</td>\n      <td>2021-08-24</td>\n      <td>13:13</td>\n      <td>91003</td>\n      <td>large</td>\n      <td>greater_london</td>\n      <td>24</td>\n      <td>34</td>\n      <td>August</td>\n      <td>2021</td>\n      <td>Q3</td>\n    </tr>\n    <tr>\n      <th>18</th>\n      <td>1097358</td>\n      <td>630457</td>\n      <td>2021-08-24</td>\n      <td>10:23</td>\n      <td>21721</td>\n      <td>small</td>\n      <td>east_midlands</td>\n      <td>83</td>\n      <td>34</td>\n      <td>August</td>\n      <td>2021</td>\n      <td>Q3</td>\n    </tr>\n    <tr>\n      <th>19</th>\n      <td>1097357</td>\n      <td>569115</td>\n      <td>2021-08-24</td>\n      <td>07:20</td>\n      <td>12419</td>\n      <td>small</td>\n      <td>west_midlands</td>\n      <td>159</td>\n      <td>34</td>\n      <td>August</td>\n      <td>2021</td>\n      <td>Q3</td>\n    </tr>\n    <tr>\n      <th>20</th>\n      <td>1097356</td>\n      <td>932823</td>\n      <td>2021-08-24</td>\n      <td>04:54</td>\n      <td>3194</td>\n      <td>small</td>\n      <td>south_wales</td>\n      <td>244</td>\n      <td>34</td>\n      <td>August</td>\n      <td>2021</td>\n      <td>Q3</td>\n    </tr>\n    <tr>\n      <th>21</th>\n      <td>1097355</td>\n      <td>701155</td>\n      <td>2021-08-24</td>\n      <td>01:24</td>\n      <td>92044</td>\n      <td>large</td>\n      <td>greater_london</td>\n      <td>38</td>\n      <td>34</td>\n      <td>August</td>\n      <td>2021</td>\n      <td>Q3</td>\n    </tr>\n    <tr>\n      <th>22</th>\n      <td>1097359</td>\n      <td>212427</td>\n      <td>2021-08-24</td>\n      <td>12:40</td>\n      <td>51071</td>\n      <td>small</td>\n      <td>south_east</td>\n      <td>76</td>\n      <td>34</td>\n      <td>August</td>\n      <td>2021</td>\n      <td>Q3</td>\n    </tr>\n    <tr>\n      <th>23</th>\n      <td>1097365</td>\n      <td>281402</td>\n      <td>2021-08-25</td>\n      <td>01:13</td>\n      <td>23845</td>\n      <td>small</td>\n      <td>west_midlands</td>\n      <td>118</td>\n      <td>34</td>\n      <td>August</td>\n      <td>2021</td>\n      <td>Q3</td>\n    </tr>\n    <tr>\n      <th>24</th>\n      <td>1097366</td>\n      <td>322715</td>\n      <td>2021-08-25</td>\n      <td>07:41</td>\n      <td>7180</td>\n      <td>small</td>\n      <td>south_east</td>\n      <td>79</td>\n      <td>34</td>\n      <td>August</td>\n      <td>2021</td>\n      <td>Q3</td>\n    </tr>\n    <tr>\n      <th>25</th>\n      <td>1097367</td>\n      <td>796456</td>\n      <td>2021-08-25</td>\n      <td>12:54</td>\n      <td>66018</td>\n      <td>small</td>\n      <td>east_midlands</td>\n      <td>119</td>\n      <td>34</td>\n      <td>August</td>\n      <td>2021</td>\n      <td>Q3</td>\n    </tr>\n    <tr>\n      <th>26</th>\n      <td>1097368</td>\n      <td>988770</td>\n      <td>2021-08-25</td>\n      <td>13:17</td>\n      <td>47086</td>\n      <td>small</td>\n      <td>north_wales</td>\n      <td>210</td>\n      <td>34</td>\n      <td>August</td>\n      <td>2021</td>\n      <td>Q3</td>\n    </tr>\n    <tr>\n      <th>27</th>\n      <td>1097369</td>\n      <td>706131</td>\n      <td>2021-08-25</td>\n      <td>16:39</td>\n      <td>85902</td>\n      <td>large</td>\n      <td>south_east</td>\n      <td>44</td>\n      <td>34</td>\n      <td>August</td>\n      <td>2021</td>\n      <td>Q3</td>\n    </tr>\n    <tr>\n      <th>28</th>\n      <td>1097370</td>\n      <td>405990</td>\n      <td>2021-08-25</td>\n      <td>21:27</td>\n      <td>55428</td>\n      <td>small</td>\n      <td>greater_london</td>\n      <td>19</td>\n      <td>34</td>\n      <td>August</td>\n      <td>2021</td>\n      <td>Q3</td>\n    </tr>\n    <tr>\n      <th>29</th>\n      <td>1097371</td>\n      <td>378756</td>\n      <td>2021-08-25</td>\n      <td>22:02</td>\n      <td>37832</td>\n      <td>small</td>\n      <td>south_east</td>\n      <td>49</td>\n      <td>34</td>\n      <td>August</td>\n      <td>2021</td>\n      <td>Q3</td>\n    </tr>\n    <tr>\n      <th>30</th>\n      <td>1097376</td>\n      <td>142521</td>\n      <td>2021-08-26</td>\n      <td>21:15</td>\n      <td>42169</td>\n      <td>small</td>\n      <td>greater_london</td>\n      <td>13</td>\n      <td>34</td>\n      <td>August</td>\n      <td>2021</td>\n      <td>Q3</td>\n    </tr>\n    <tr>\n      <th>31</th>\n      <td>1097377</td>\n      <td>261311</td>\n      <td>2021-08-26</td>\n      <td>22:10</td>\n      <td>78409</td>\n      <td>large</td>\n      <td>greater_london</td>\n      <td>5</td>\n      <td>34</td>\n      <td>August</td>\n      <td>2021</td>\n      <td>Q3</td>\n    </tr>\n    <tr>\n      <th>32</th>\n      <td>1097375</td>\n      <td>260338</td>\n      <td>2021-08-26</td>\n      <td>13:26</td>\n      <td>24960</td>\n      <td>small</td>\n      <td>west_midlands</td>\n      <td>125</td>\n      <td>34</td>\n      <td>August</td>\n      <td>2021</td>\n      <td>Q3</td>\n    </tr>\n    <tr>\n      <th>33</th>\n      <td>1097372</td>\n      <td>170561</td>\n      <td>2021-08-26</td>\n      <td>03:19</td>\n      <td>84189</td>\n      <td>large</td>\n      <td>south_east</td>\n      <td>59</td>\n      <td>34</td>\n      <td>August</td>\n      <td>2021</td>\n      <td>Q3</td>\n    </tr>\n    <tr>\n      <th>34</th>\n      <td>1097373</td>\n      <td>188318</td>\n      <td>2021-08-26</td>\n      <td>07:55</td>\n      <td>77674</td>\n      <td>large</td>\n      <td>greater_london</td>\n      <td>25</td>\n      <td>34</td>\n      <td>August</td>\n      <td>2021</td>\n      <td>Q3</td>\n    </tr>\n    <tr>\n      <th>35</th>\n      <td>1097374</td>\n      <td>892013</td>\n      <td>2021-08-26</td>\n      <td>11:23</td>\n      <td>41953</td>\n      <td>small</td>\n      <td>west_midlands</td>\n      <td>107</td>\n      <td>34</td>\n      <td>August</td>\n      <td>2021</td>\n      <td>Q3</td>\n    </tr>\n    <tr>\n      <th>36</th>\n      <td>1097378</td>\n      <td>950702</td>\n      <td>2021-08-27</td>\n      <td>00:50</td>\n      <td>19359</td>\n      <td>small</td>\n      <td>greater_london</td>\n      <td>25</td>\n      <td>34</td>\n      <td>August</td>\n      <td>2021</td>\n      <td>Q3</td>\n    </tr>\n    <tr>\n      <th>37</th>\n      <td>1097379</td>\n      <td>104011</td>\n      <td>2021-08-27</td>\n      <td>07:10</td>\n      <td>78514</td>\n      <td>large</td>\n      <td>east_midlands</td>\n      <td>52</td>\n      <td>34</td>\n      <td>August</td>\n      <td>2021</td>\n      <td>Q3</td>\n    </tr>\n    <tr>\n      <th>38</th>\n      <td>1097380</td>\n      <td>458412</td>\n      <td>2021-08-27</td>\n      <td>07:30</td>\n      <td>68757</td>\n      <td>small</td>\n      <td>south_east</td>\n      <td>44</td>\n      <td>34</td>\n      <td>August</td>\n      <td>2021</td>\n      <td>Q3</td>\n    </tr>\n    <tr>\n      <th>39</th>\n      <td>1097381</td>\n      <td>104011</td>\n      <td>2021-08-27</td>\n      <td>10:44</td>\n      <td>33761</td>\n      <td>small</td>\n      <td>east_midlands</td>\n      <td>42</td>\n      <td>34</td>\n      <td>August</td>\n      <td>2021</td>\n      <td>Q3</td>\n    </tr>\n    <tr>\n      <th>40</th>\n      <td>1097382</td>\n      <td>270488</td>\n      <td>2021-08-27</td>\n      <td>17:19</td>\n      <td>59264</td>\n      <td>small</td>\n      <td>south_west</td>\n      <td>271</td>\n      <td>34</td>\n      <td>August</td>\n      <td>2021</td>\n      <td>Q3</td>\n    </tr>\n    <tr>\n      <th>41</th>\n      <td>1097383</td>\n      <td>979973</td>\n      <td>2021-08-27</td>\n      <td>18:05</td>\n      <td>97018</td>\n      <td>large</td>\n      <td>greater_london</td>\n      <td>16</td>\n      <td>34</td>\n      <td>August</td>\n      <td>2021</td>\n      <td>Q3</td>\n    </tr>\n    <tr>\n      <th>42</th>\n      <td>1097384</td>\n      <td>103222</td>\n      <td>2021-08-27</td>\n      <td>20:35</td>\n      <td>69138</td>\n      <td>small</td>\n      <td>south_west</td>\n      <td>110</td>\n      <td>34</td>\n      <td>August</td>\n      <td>2021</td>\n      <td>Q3</td>\n    </tr>\n    <tr>\n      <th>43</th>\n      <td>1097388</td>\n      <td>635746</td>\n      <td>2021-08-28</td>\n      <td>17:48</td>\n      <td>50632</td>\n      <td>small</td>\n      <td>south_west</td>\n      <td>191</td>\n      <td>34</td>\n      <td>August</td>\n      <td>2021</td>\n      <td>Q3</td>\n    </tr>\n    <tr>\n      <th>44</th>\n      <td>1097387</td>\n      <td>488070</td>\n      <td>2021-08-28</td>\n      <td>13:43</td>\n      <td>37670</td>\n      <td>small</td>\n      <td>greater_london</td>\n      <td>40</td>\n      <td>34</td>\n      <td>August</td>\n      <td>2021</td>\n      <td>Q3</td>\n    </tr>\n    <tr>\n      <th>45</th>\n      <td>1097389</td>\n      <td>636700</td>\n      <td>2021-08-28</td>\n      <td>23:06</td>\n      <td>39555</td>\n      <td>small</td>\n      <td>south_west</td>\n      <td>192</td>\n      <td>34</td>\n      <td>August</td>\n      <td>2021</td>\n      <td>Q3</td>\n    </tr>\n    <tr>\n      <th>46</th>\n      <td>1097385</td>\n      <td>104011</td>\n      <td>2021-08-28</td>\n      <td>02:41</td>\n      <td>96646</td>\n      <td>large</td>\n      <td>east_midlands</td>\n      <td>82</td>\n      <td>34</td>\n      <td>August</td>\n      <td>2021</td>\n      <td>Q3</td>\n    </tr>\n    <tr>\n      <th>47</th>\n      <td>1097386</td>\n      <td>617548</td>\n      <td>2021-08-28</td>\n      <td>05:53</td>\n      <td>95223</td>\n      <td>large</td>\n      <td>greater_london</td>\n      <td>32</td>\n      <td>34</td>\n      <td>August</td>\n      <td>2021</td>\n      <td>Q3</td>\n    </tr>\n    <tr>\n      <th>48</th>\n      <td>1097390</td>\n      <td>366566</td>\n      <td>2021-08-29</td>\n      <td>01:50</td>\n      <td>23145</td>\n      <td>small</td>\n      <td>north_east</td>\n      <td>197</td>\n      <td>34</td>\n      <td>August</td>\n      <td>2021</td>\n      <td>Q3</td>\n    </tr>\n    <tr>\n      <th>49</th>\n      <td>1097391</td>\n      <td>340083</td>\n      <td>2021-08-29</td>\n      <td>05:44</td>\n      <td>52588</td>\n      <td>small</td>\n      <td>north_wales</td>\n      <td>280</td>\n      <td>34</td>\n      <td>August</td>\n      <td>2021</td>\n      <td>Q3</td>\n    </tr>\n  </tbody>\n</table>\n</div>"
     },
     "execution_count": 2,
     "metadata": {},
     "output_type": "execute_result"
    }
   ],
   "source": [
    "# import CLEAN dataset\n",
    "\n",
    "mr_haulage_df = pd.read_csv(\n",
    "    '/Users/lottiejanepollare/Library/Mobile Documents/com~apple~CloudDocs/CV, Profiles, Interviews & Job Applications/applications/techmodal_analyst_data_engineer/20230825_Analyst_case_study_submission_Lottie_Jane_Pollard/datasets/cleansed_mr_haulage_order_details.csv')\n",
    "\n",
    "# add data types in from previous metadata\n",
    "\n",
    "metadata_df = pd.read_excel('/Users/lottiejanepollare/Library/Mobile Documents/com~apple~CloudDocs/CV, Profiles, Interviews & Job Applications/applications/techmodal_analyst_data_engineer/20230825_Analyst_case_study_submission_Lottie_Jane_Pollard/datasets/metadata.xlsx')\n",
    "metadata_dict = metadata_df.set_index('column_name')['datatype'].to_dict()\n",
    "mr_haulage_df = mr_haulage_df.astype(metadata_dict)\n",
    "\n",
    "# configure display settings: display all columns regardless of df width, disable wrapping columns to display entire field, no truncating columns, display an English date format\n",
    "pd.set_option('display.max.columns', None, 'display.width', None, 'display.max.colwidth', None, 'display.date_dayfirst', True)\n",
    "\n",
    "# show the head of df to see what I'm working with\n",
    "mr_haulage_df.head(50)"
   ],
   "metadata": {
    "collapsed": false,
    "ExecuteTime": {
     "end_time": "2023-08-28T14:28:53.895679Z",
     "start_time": "2023-08-28T14:28:53.246439Z"
    }
   }
  },
  {
   "cell_type": "code",
   "execution_count": 3,
   "outputs": [
    {
     "data": {
      "text/plain": "order_id                      int64\ncustomer_id                   int64\norder_date           datetime64[ns]\norder_time                   object\nitem_serial                   int64\nbox_type                   category\ndelivery_region            category\ndistance_(miles)              int64\norder_week                   UInt32\norder_month                  object\norder_year                    int32\nfinancial_quarter            object\ndtype: object"
     },
     "execution_count": 3,
     "metadata": {},
     "output_type": "execute_result"
    }
   ],
   "source": [
    "# check metadata & datatypes have loaded correctly\n",
    "mr_haulage_df.dtypes"
   ],
   "metadata": {
    "collapsed": false,
    "ExecuteTime": {
     "end_time": "2023-08-28T14:28:56.910397Z",
     "start_time": "2023-08-28T14:28:56.902088Z"
    }
   }
  },
  {
   "cell_type": "markdown",
   "source": [
    "## Let's start our cost analysis by adding a column for revenue per box to allow for some Pandas aggregation & visualisations"
   ],
   "metadata": {
    "collapsed": false
   }
  },
  {
   "cell_type": "code",
   "execution_count": 4,
   "outputs": [
    {
     "data": {
      "text/plain": "      order_id  customer_id order_date order_time  order_revenue  item_serial  \\\n0      1097342       733603 2021-08-22      00:14          20.00        30351   \n1      1097343       405061 2021-08-22      07:08          20.00        17634   \n2      1097344       842139 2021-08-22      10:15          20.00        25598   \n3      1097345       211806 2021-08-22      17:05          20.00        10104   \n4      1097346       103222 2021-08-22      23:48          20.00         3252   \n...        ...          ...        ...        ...            ...          ...   \n1995   1099335       216509 2023-04-09      06:40          20.00         4716   \n1996   1099339       710623 2023-04-10      11:32          20.00          387   \n1997   1099340       932977 2023-04-10      17:54         100.00        80608   \n1998   1099338       103222 2023-04-10      01:02          20.00        29091   \n1999   1099341       237989 2023-04-10      21:23          20.00        34860   \n\n     box_type delivery_region  distance_(miles)  order_week order_month  \\\n0       small      south_east                70          33      August   \n1       small  greater_london                32          33      August   \n2       small      south_west               190          33      August   \n3       small      south_west                85          33      August   \n4       small  greater_london                43          33      August   \n...       ...             ...               ...         ...         ...   \n1995    small  greater_london                 8          14       April   \n1996    small      south_west               300          15       April   \n1997    large      south_east                48          15       April   \n1998    small      south_west               233          15       April   \n1999    small  greater_london                10          15       April   \n\n      order_year financial_quarter  \n0           2021                Q3  \n1           2021                Q3  \n2           2021                Q3  \n3           2021                Q3  \n4           2021                Q3  \n...          ...               ...  \n1995        2023                Q2  \n1996        2023                Q2  \n1997        2023                Q2  \n1998        2023                Q2  \n1999        2023                Q2  \n\n[2000 rows x 13 columns]",
      "text/html": "<div>\n<style scoped>\n    .dataframe tbody tr th:only-of-type {\n        vertical-align: middle;\n    }\n\n    .dataframe tbody tr th {\n        vertical-align: top;\n    }\n\n    .dataframe thead th {\n        text-align: right;\n    }\n</style>\n<table border=\"1\" class=\"dataframe\">\n  <thead>\n    <tr style=\"text-align: right;\">\n      <th></th>\n      <th>order_id</th>\n      <th>customer_id</th>\n      <th>order_date</th>\n      <th>order_time</th>\n      <th>order_revenue</th>\n      <th>item_serial</th>\n      <th>box_type</th>\n      <th>delivery_region</th>\n      <th>distance_(miles)</th>\n      <th>order_week</th>\n      <th>order_month</th>\n      <th>order_year</th>\n      <th>financial_quarter</th>\n    </tr>\n  </thead>\n  <tbody>\n    <tr>\n      <th>0</th>\n      <td>1097342</td>\n      <td>733603</td>\n      <td>2021-08-22</td>\n      <td>00:14</td>\n      <td>20.00</td>\n      <td>30351</td>\n      <td>small</td>\n      <td>south_east</td>\n      <td>70</td>\n      <td>33</td>\n      <td>August</td>\n      <td>2021</td>\n      <td>Q3</td>\n    </tr>\n    <tr>\n      <th>1</th>\n      <td>1097343</td>\n      <td>405061</td>\n      <td>2021-08-22</td>\n      <td>07:08</td>\n      <td>20.00</td>\n      <td>17634</td>\n      <td>small</td>\n      <td>greater_london</td>\n      <td>32</td>\n      <td>33</td>\n      <td>August</td>\n      <td>2021</td>\n      <td>Q3</td>\n    </tr>\n    <tr>\n      <th>2</th>\n      <td>1097344</td>\n      <td>842139</td>\n      <td>2021-08-22</td>\n      <td>10:15</td>\n      <td>20.00</td>\n      <td>25598</td>\n      <td>small</td>\n      <td>south_west</td>\n      <td>190</td>\n      <td>33</td>\n      <td>August</td>\n      <td>2021</td>\n      <td>Q3</td>\n    </tr>\n    <tr>\n      <th>3</th>\n      <td>1097345</td>\n      <td>211806</td>\n      <td>2021-08-22</td>\n      <td>17:05</td>\n      <td>20.00</td>\n      <td>10104</td>\n      <td>small</td>\n      <td>south_west</td>\n      <td>85</td>\n      <td>33</td>\n      <td>August</td>\n      <td>2021</td>\n      <td>Q3</td>\n    </tr>\n    <tr>\n      <th>4</th>\n      <td>1097346</td>\n      <td>103222</td>\n      <td>2021-08-22</td>\n      <td>23:48</td>\n      <td>20.00</td>\n      <td>3252</td>\n      <td>small</td>\n      <td>greater_london</td>\n      <td>43</td>\n      <td>33</td>\n      <td>August</td>\n      <td>2021</td>\n      <td>Q3</td>\n    </tr>\n    <tr>\n      <th>...</th>\n      <td>...</td>\n      <td>...</td>\n      <td>...</td>\n      <td>...</td>\n      <td>...</td>\n      <td>...</td>\n      <td>...</td>\n      <td>...</td>\n      <td>...</td>\n      <td>...</td>\n      <td>...</td>\n      <td>...</td>\n      <td>...</td>\n    </tr>\n    <tr>\n      <th>1995</th>\n      <td>1099335</td>\n      <td>216509</td>\n      <td>2023-04-09</td>\n      <td>06:40</td>\n      <td>20.00</td>\n      <td>4716</td>\n      <td>small</td>\n      <td>greater_london</td>\n      <td>8</td>\n      <td>14</td>\n      <td>April</td>\n      <td>2023</td>\n      <td>Q2</td>\n    </tr>\n    <tr>\n      <th>1996</th>\n      <td>1099339</td>\n      <td>710623</td>\n      <td>2023-04-10</td>\n      <td>11:32</td>\n      <td>20.00</td>\n      <td>387</td>\n      <td>small</td>\n      <td>south_west</td>\n      <td>300</td>\n      <td>15</td>\n      <td>April</td>\n      <td>2023</td>\n      <td>Q2</td>\n    </tr>\n    <tr>\n      <th>1997</th>\n      <td>1099340</td>\n      <td>932977</td>\n      <td>2023-04-10</td>\n      <td>17:54</td>\n      <td>100.00</td>\n      <td>80608</td>\n      <td>large</td>\n      <td>south_east</td>\n      <td>48</td>\n      <td>15</td>\n      <td>April</td>\n      <td>2023</td>\n      <td>Q2</td>\n    </tr>\n    <tr>\n      <th>1998</th>\n      <td>1099338</td>\n      <td>103222</td>\n      <td>2023-04-10</td>\n      <td>01:02</td>\n      <td>20.00</td>\n      <td>29091</td>\n      <td>small</td>\n      <td>south_west</td>\n      <td>233</td>\n      <td>15</td>\n      <td>April</td>\n      <td>2023</td>\n      <td>Q2</td>\n    </tr>\n    <tr>\n      <th>1999</th>\n      <td>1099341</td>\n      <td>237989</td>\n      <td>2023-04-10</td>\n      <td>21:23</td>\n      <td>20.00</td>\n      <td>34860</td>\n      <td>small</td>\n      <td>greater_london</td>\n      <td>10</td>\n      <td>15</td>\n      <td>April</td>\n      <td>2023</td>\n      <td>Q2</td>\n    </tr>\n  </tbody>\n</table>\n<p>2000 rows × 13 columns</p>\n</div>"
     },
     "execution_count": 4,
     "metadata": {},
     "output_type": "execute_result"
    }
   ],
   "source": [
    "# first, we will create the values based on if/else criteria (small box = £20 & large box = £100)\n",
    "initial_values = [20.00 if box_type == 'small' else 100.00 if box_type == 'large' else 0 for box_type in mr_haulage_df['box_type']]\n",
    "\n",
    "# then, insert a new column with the above initial values, I'll insert the new column, 'order_revenue' after 'item_serial' at index 3\n",
    "mr_haulage_df.insert(loc=4, column='order_revenue', value=initial_values)\n",
    "\n",
    "# set the data type for 'order_revenue' to float64 for monetary value\n",
    "mr_haulage_df['order_revenue'] = mr_haulage_df['order_revenue'].astype('float64')\n",
    "pd.set_option('display.float_format', '{:.2f}'.format)\n",
    "\n",
    "mr_haulage_df"
   ],
   "metadata": {
    "collapsed": false,
    "ExecuteTime": {
     "end_time": "2023-08-28T14:28:59.565173Z",
     "start_time": "2023-08-28T14:28:59.556639Z"
    }
   }
  },
  {
   "cell_type": "code",
   "execution_count": 42,
   "outputs": [
    {
     "name": "stdout",
     "output_type": "stream",
     "text": [
      "The main distribution depot is most likely to be in greater_london\n",
      "--------------------------------------------------------\n"
     ]
    },
    {
     "data": {
      "text/plain": "  delivery_region  distance_(miles)\n1  greater_london             26.91\n4      south_east             60.23\n0   east_midlands             82.70\n7   west_midlands            119.23\n6      south_west            179.88\n5     south_wales            195.53\n3     north_wales            213.87\n2      north_east            233.84",
      "text/html": "<div>\n<style scoped>\n    .dataframe tbody tr th:only-of-type {\n        vertical-align: middle;\n    }\n\n    .dataframe tbody tr th {\n        vertical-align: top;\n    }\n\n    .dataframe thead th {\n        text-align: right;\n    }\n</style>\n<table border=\"1\" class=\"dataframe\">\n  <thead>\n    <tr style=\"text-align: right;\">\n      <th></th>\n      <th>delivery_region</th>\n      <th>distance_(miles)</th>\n    </tr>\n  </thead>\n  <tbody>\n    <tr>\n      <th>1</th>\n      <td>greater_london</td>\n      <td>26.91</td>\n    </tr>\n    <tr>\n      <th>4</th>\n      <td>south_east</td>\n      <td>60.23</td>\n    </tr>\n    <tr>\n      <th>0</th>\n      <td>east_midlands</td>\n      <td>82.70</td>\n    </tr>\n    <tr>\n      <th>7</th>\n      <td>west_midlands</td>\n      <td>119.23</td>\n    </tr>\n    <tr>\n      <th>6</th>\n      <td>south_west</td>\n      <td>179.88</td>\n    </tr>\n    <tr>\n      <th>5</th>\n      <td>south_wales</td>\n      <td>195.53</td>\n    </tr>\n    <tr>\n      <th>3</th>\n      <td>north_wales</td>\n      <td>213.87</td>\n    </tr>\n    <tr>\n      <th>2</th>\n      <td>north_east</td>\n      <td>233.84</td>\n    </tr>\n  </tbody>\n</table>\n</div>"
     },
     "execution_count": 42,
     "metadata": {},
     "output_type": "execute_result"
    }
   ],
   "source": [
    "# let's look at the 'distance_(miles)' in relation to the region. This will give me an idea of where the main distribution depot is\n",
    "avg_distance_per_region = mr_haulage_df.groupby('delivery_region')['distance_(miles)'].mean().reset_index().sort_values(by='distance_(miles)')\n",
    "\n",
    "print(f\"The main distribution depot is most likely to be in {avg_distance_per_region['delivery_region'].iloc[0]}\")\n",
    "print(f\"--------------------------------------------------------\")\n",
    "avg_distance_per_region"
   ],
   "metadata": {
    "collapsed": false,
    "ExecuteTime": {
     "end_time": "2023-08-28T18:48:44.227182Z",
     "start_time": "2023-08-28T18:48:44.214476Z"
    }
   }
  },
  {
   "cell_type": "code",
   "execution_count": 43,
   "outputs": [
    {
     "name": "stdout",
     "output_type": "stream",
     "text": [
      "We have 1792 unique customers.\n",
      "--------------------------------------------------------\n",
      "Of our 1792 customers, only 4 of them are repeat customers.\n",
      "--------------------------------------------------------\n"
     ]
    },
    {
     "data": {
      "text/plain": "     customer_id  number_of_orders\n8         103222               106\n12        104011                77\n1         100131                27\n299       246796                 2",
      "text/html": "<div>\n<style scoped>\n    .dataframe tbody tr th:only-of-type {\n        vertical-align: middle;\n    }\n\n    .dataframe tbody tr th {\n        vertical-align: top;\n    }\n\n    .dataframe thead th {\n        text-align: right;\n    }\n</style>\n<table border=\"1\" class=\"dataframe\">\n  <thead>\n    <tr style=\"text-align: right;\">\n      <th></th>\n      <th>customer_id</th>\n      <th>number_of_orders</th>\n    </tr>\n  </thead>\n  <tbody>\n    <tr>\n      <th>8</th>\n      <td>103222</td>\n      <td>106</td>\n    </tr>\n    <tr>\n      <th>12</th>\n      <td>104011</td>\n      <td>77</td>\n    </tr>\n    <tr>\n      <th>1</th>\n      <td>100131</td>\n      <td>27</td>\n    </tr>\n    <tr>\n      <th>299</th>\n      <td>246796</td>\n      <td>2</td>\n    </tr>\n  </tbody>\n</table>\n</div>"
     },
     "execution_count": 43,
     "metadata": {},
     "output_type": "execute_result"
    }
   ],
   "source": [
    "# let's look at the most popular customer_id's\n",
    "\n",
    "# Number of unique customers\n",
    "number_of_unique_customers = mr_haulage_df['customer_id'].nunique()\n",
    "\n",
    "# Orders per customer\n",
    "orders_per_customer = mr_haulage_df.groupby('customer_id').size().reset_index(name='number_of_orders').sort_values(by='number_of_orders', ascending=False)\n",
    "\n",
    "# Repeat customers\n",
    "repeat_customers = orders_per_customer[orders_per_customer['number_of_orders'] > 1]\n",
    "\n",
    "print(f\"We have {number_of_unique_customers} unique customers.\")\n",
    "print(f\"--------------------------------------------------------\")\n",
    "print(f\"Of our {number_of_unique_customers} customers, only {len(repeat_customers)} of them are repeat customers.\")\n",
    "print(f\"--------------------------------------------------------\")\n",
    "\n",
    "orders_per_customer.head(len(repeat_customers))"
   ],
   "metadata": {
    "collapsed": false,
    "ExecuteTime": {
     "end_time": "2023-08-28T18:50:35.591867Z",
     "start_time": "2023-08-28T18:50:35.567473Z"
    }
   }
  },
  {
   "cell_type": "code",
   "execution_count": 21,
   "outputs": [
    {
     "name": "stdout",
     "output_type": "stream",
     "text": [
      "The most common delivery region for customer ID 103222 is greater_london.\n",
      "--------------------------------------------------------\n",
      "The most common delivery region for customer ID 104011 is greater_london.\n",
      "--------------------------------------------------------\n",
      "The most common delivery region for customer ID 100131 is greater_london.\n",
      "--------------------------------------------------------\n",
      "The most common delivery region for customer ID 246796 is south_east.\n",
      "--------------------------------------------------------\n"
     ]
    }
   ],
   "source": [
    "# Get the customer IDs of the first 4 repeat customers\n",
    "top_4_repeat_customer_ids = repeat_customers['customer_id'].head(4).values\n",
    "\n",
    "# Filter the DataFrame for those top 4 repeat customer IDs\n",
    "filtered_df = mr_haulage_df[mr_haulage_df['customer_id'].isin(top_4_repeat_customer_ids)]\n",
    "\n",
    "# Find the most common delivery region for each of those top 4 customer IDs\n",
    "for customer_id in top_4_repeat_customer_ids:\n",
    "    most_common_region = filtered_df[filtered_df['customer_id'] == customer_id]['delivery_region'].value_counts().idxmax()\n",
    "    print(f\"The most common delivery region for customer ID {customer_id} is {most_common_region}.\")\n",
    "    print(f\"--------------------------------------------------------\")\n"
   ],
   "metadata": {
    "collapsed": false,
    "ExecuteTime": {
     "end_time": "2023-08-28T17:01:37.818661Z",
     "start_time": "2023-08-28T17:01:37.777139Z"
    }
   }
  },
  {
   "cell_type": "code",
   "execution_count": 16,
   "outputs": [
    {
     "data": {
      "text/plain": "  delivery_region  order_count  percentage_of_total_orders\n1  greater_london          629                       31.45\n4      south_east          475                       23.75\n6      south_west          309                       15.45\n0   east_midlands          199                        9.95\n5     south_wales          132                        6.60\n2      north_east          108                        5.40\n7   west_midlands           96                        4.80\n3     north_wales           52                        2.60",
      "text/html": "<div>\n<style scoped>\n    .dataframe tbody tr th:only-of-type {\n        vertical-align: middle;\n    }\n\n    .dataframe tbody tr th {\n        vertical-align: top;\n    }\n\n    .dataframe thead th {\n        text-align: right;\n    }\n</style>\n<table border=\"1\" class=\"dataframe\">\n  <thead>\n    <tr style=\"text-align: right;\">\n      <th></th>\n      <th>delivery_region</th>\n      <th>order_count</th>\n      <th>percentage_of_total_orders</th>\n    </tr>\n  </thead>\n  <tbody>\n    <tr>\n      <th>1</th>\n      <td>greater_london</td>\n      <td>629</td>\n      <td>31.45</td>\n    </tr>\n    <tr>\n      <th>4</th>\n      <td>south_east</td>\n      <td>475</td>\n      <td>23.75</td>\n    </tr>\n    <tr>\n      <th>6</th>\n      <td>south_west</td>\n      <td>309</td>\n      <td>15.45</td>\n    </tr>\n    <tr>\n      <th>0</th>\n      <td>east_midlands</td>\n      <td>199</td>\n      <td>9.95</td>\n    </tr>\n    <tr>\n      <th>5</th>\n      <td>south_wales</td>\n      <td>132</td>\n      <td>6.60</td>\n    </tr>\n    <tr>\n      <th>2</th>\n      <td>north_east</td>\n      <td>108</td>\n      <td>5.40</td>\n    </tr>\n    <tr>\n      <th>7</th>\n      <td>west_midlands</td>\n      <td>96</td>\n      <td>4.80</td>\n    </tr>\n    <tr>\n      <th>3</th>\n      <td>north_wales</td>\n      <td>52</td>\n      <td>2.60</td>\n    </tr>\n  </tbody>\n</table>\n</div>"
     },
     "execution_count": 16,
     "metadata": {},
     "output_type": "execute_result"
    }
   ],
   "source": [
    "# let's look at the most popular delivery regions\n",
    "most_popular_delivery_regions_by_orders = mr_haulage_df.groupby('delivery_region').size().reset_index(name='order_count').sort_values('order_count', ascending=False)\n",
    "\n",
    "# Calculate the total number of orders\n",
    "total_orders = most_popular_delivery_regions_by_orders['order_count'].sum()\n",
    "\n",
    "# Add a new column for the percentage of total orders\n",
    "most_popular_delivery_regions_by_orders['percentage_of_total_orders'] = (most_popular_delivery_regions_by_orders['order_count'] / total_orders) * 100\n",
    "\n",
    "most_popular_delivery_regions_by_orders"
   ],
   "metadata": {
    "collapsed": false,
    "ExecuteTime": {
     "end_time": "2023-08-28T15:03:10.037978Z",
     "start_time": "2023-08-28T15:03:10.023347Z"
    }
   }
  },
  {
   "cell_type": "code",
   "execution_count": 17,
   "outputs": [
    {
     "data": {
      "text/plain": "  delivery_region  unique_customer_count  percentage_of_total_customers\n1  greater_london                    563                          31.05\n4      south_east                    436                          24.05\n6      south_west                    276                          15.22\n0   east_midlands                    171                           9.43\n5     south_wales                    124                           6.84\n2      north_east                    102                           5.63\n7   west_midlands                     91                           5.02\n3     north_wales                     50                           2.76",
      "text/html": "<div>\n<style scoped>\n    .dataframe tbody tr th:only-of-type {\n        vertical-align: middle;\n    }\n\n    .dataframe tbody tr th {\n        vertical-align: top;\n    }\n\n    .dataframe thead th {\n        text-align: right;\n    }\n</style>\n<table border=\"1\" class=\"dataframe\">\n  <thead>\n    <tr style=\"text-align: right;\">\n      <th></th>\n      <th>delivery_region</th>\n      <th>unique_customer_count</th>\n      <th>percentage_of_total_customers</th>\n    </tr>\n  </thead>\n  <tbody>\n    <tr>\n      <th>1</th>\n      <td>greater_london</td>\n      <td>563</td>\n      <td>31.05</td>\n    </tr>\n    <tr>\n      <th>4</th>\n      <td>south_east</td>\n      <td>436</td>\n      <td>24.05</td>\n    </tr>\n    <tr>\n      <th>6</th>\n      <td>south_west</td>\n      <td>276</td>\n      <td>15.22</td>\n    </tr>\n    <tr>\n      <th>0</th>\n      <td>east_midlands</td>\n      <td>171</td>\n      <td>9.43</td>\n    </tr>\n    <tr>\n      <th>5</th>\n      <td>south_wales</td>\n      <td>124</td>\n      <td>6.84</td>\n    </tr>\n    <tr>\n      <th>2</th>\n      <td>north_east</td>\n      <td>102</td>\n      <td>5.63</td>\n    </tr>\n    <tr>\n      <th>7</th>\n      <td>west_midlands</td>\n      <td>91</td>\n      <td>5.02</td>\n    </tr>\n    <tr>\n      <th>3</th>\n      <td>north_wales</td>\n      <td>50</td>\n      <td>2.76</td>\n    </tr>\n  </tbody>\n</table>\n</div>"
     },
     "execution_count": 17,
     "metadata": {},
     "output_type": "execute_result"
    }
   ],
   "source": [
    "# let's look at the most popular delivery regions by total customers\n",
    "most_popular_delivery_regions_by_customers = mr_haulage_df.groupby('delivery_region')['customer_id'].nunique().reset_index(name='unique_customer_count').sort_values('unique_customer_count', ascending=False)\n",
    "\n",
    "# Calculate the total number of customers\n",
    "total_customers = most_popular_delivery_regions_by_customers['unique_customer_count'].sum()\n",
    "\n",
    "# Add a new column for the percentage of total customers\n",
    "most_popular_delivery_regions_by_customers['percentage_of_total_customers'] = (most_popular_delivery_regions_by_customers['unique_customer_count'] / total_customers) * 100\n",
    "\n",
    "most_popular_delivery_regions_by_customers"
   ],
   "metadata": {
    "collapsed": false,
    "ExecuteTime": {
     "end_time": "2023-08-28T15:08:36.894059Z",
     "start_time": "2023-08-28T15:08:36.871552Z"
    }
   }
  },
  {
   "cell_type": "code",
   "execution_count": 44,
   "outputs": [
    {
     "data": {
      "text/plain": "     order_date delivery_region box_type  box_count\n3    2021-08-22  greater_london    small          3\n9    2021-08-22      south_east    small          1\n13   2021-08-22      south_west    small          2\n18   2021-08-23  greater_london    large          1\n20   2021-08-23      north_east    large          1\n...         ...             ...      ...        ...\n9523 2023-04-09  greater_london    small          2\n9533 2023-04-09      south_west    small          1\n9539 2023-04-10  greater_london    small          1\n9544 2023-04-10      south_east    large          1\n9549 2023-04-10      south_west    small          2\n\n[1640 rows x 4 columns]",
      "text/html": "<div>\n<style scoped>\n    .dataframe tbody tr th:only-of-type {\n        vertical-align: middle;\n    }\n\n    .dataframe tbody tr th {\n        vertical-align: top;\n    }\n\n    .dataframe thead th {\n        text-align: right;\n    }\n</style>\n<table border=\"1\" class=\"dataframe\">\n  <thead>\n    <tr style=\"text-align: right;\">\n      <th></th>\n      <th>order_date</th>\n      <th>delivery_region</th>\n      <th>box_type</th>\n      <th>box_count</th>\n    </tr>\n  </thead>\n  <tbody>\n    <tr>\n      <th>3</th>\n      <td>2021-08-22</td>\n      <td>greater_london</td>\n      <td>small</td>\n      <td>3</td>\n    </tr>\n    <tr>\n      <th>9</th>\n      <td>2021-08-22</td>\n      <td>south_east</td>\n      <td>small</td>\n      <td>1</td>\n    </tr>\n    <tr>\n      <th>13</th>\n      <td>2021-08-22</td>\n      <td>south_west</td>\n      <td>small</td>\n      <td>2</td>\n    </tr>\n    <tr>\n      <th>18</th>\n      <td>2021-08-23</td>\n      <td>greater_london</td>\n      <td>large</td>\n      <td>1</td>\n    </tr>\n    <tr>\n      <th>20</th>\n      <td>2021-08-23</td>\n      <td>north_east</td>\n      <td>large</td>\n      <td>1</td>\n    </tr>\n    <tr>\n      <th>...</th>\n      <td>...</td>\n      <td>...</td>\n      <td>...</td>\n      <td>...</td>\n    </tr>\n    <tr>\n      <th>9523</th>\n      <td>2023-04-09</td>\n      <td>greater_london</td>\n      <td>small</td>\n      <td>2</td>\n    </tr>\n    <tr>\n      <th>9533</th>\n      <td>2023-04-09</td>\n      <td>south_west</td>\n      <td>small</td>\n      <td>1</td>\n    </tr>\n    <tr>\n      <th>9539</th>\n      <td>2023-04-10</td>\n      <td>greater_london</td>\n      <td>small</td>\n      <td>1</td>\n    </tr>\n    <tr>\n      <th>9544</th>\n      <td>2023-04-10</td>\n      <td>south_east</td>\n      <td>large</td>\n      <td>1</td>\n    </tr>\n    <tr>\n      <th>9549</th>\n      <td>2023-04-10</td>\n      <td>south_west</td>\n      <td>small</td>\n      <td>2</td>\n    </tr>\n  </tbody>\n</table>\n<p>1640 rows × 4 columns</p>\n</div>"
     },
     "execution_count": 44,
     "metadata": {},
     "output_type": "execute_result"
    }
   ],
   "source": [
    "# first, let's look at the historical daily demand for each box size per region\n",
    "estimated_daily_demand = mr_haulage_df.groupby(['order_date', 'delivery_region', 'box_type']).size().reset_index(name='box_count')\n",
    "\n",
    "# Filter out rows where count is 0\n",
    "estimated_daily_demand = estimated_daily_demand[estimated_daily_demand['box_count'] > 0]\n",
    "\n",
    "estimated_daily_demand"
   ],
   "metadata": {
    "collapsed": false,
    "ExecuteTime": {
     "end_time": "2023-08-28T19:05:25.035205Z",
     "start_time": "2023-08-28T19:05:24.943566Z"
    }
   }
  },
  {
   "cell_type": "markdown",
   "source": [
    "# OPTION 1 - PRIORITISING LARGE TRUCKS TO ALLOW FOR GROWTH\n",
    "## by opting to purchase large trucks instead of small (in cases where you have surplus 1,2,3 small boxes - not enough to fill a large truck) you are allowing for growth of an extra small box & giving yourself the flexibility to utilise the same vehicle for large or small boxes)"
   ],
   "metadata": {
    "collapsed": false
   }
  },
  {
   "cell_type": "code",
   "execution_count": 46,
   "outputs": [],
   "source": [
    "# let's copy the estimated daily demand to calculate for OPTION 1\n",
    "daily_demand_op_1 = estimated_daily_demand.copy()"
   ],
   "metadata": {
    "collapsed": false,
    "ExecuteTime": {
     "end_time": "2023-08-28T19:08:21.044729Z",
     "start_time": "2023-08-28T19:08:21.040065Z"
    }
   }
  },
  {
   "cell_type": "code",
   "execution_count": 47,
   "outputs": [
    {
     "data": {
      "text/plain": "     order_date delivery_region  daily_small_trucks_needed  \\\n706  2021-08-22      south_east                          1   \n1169 2021-08-22      south_west                          2   \n171  2021-08-22  greater_london                          0   \n1170 2021-08-23      south_west                          1   \n1403 2021-08-23   west_midlands                          0   \n...         ...             ...                        ...   \n554  2023-04-09  greater_london                          2   \n1401 2023-04-09      south_west                          1   \n1402 2023-04-10      south_west                          2   \n555  2023-04-10  greater_london                          1   \n1045 2023-04-10      south_east                          0   \n\n      daily_large_trucks_needed  \n706                           0  \n1169                          0  \n171                           1  \n1170                          0  \n1403                          1  \n...                         ...  \n554                           0  \n1401                          0  \n1402                          0  \n555                           0  \n1045                          1  \n\n[1493 rows x 4 columns]",
      "text/html": "<div>\n<style scoped>\n    .dataframe tbody tr th:only-of-type {\n        vertical-align: middle;\n    }\n\n    .dataframe tbody tr th {\n        vertical-align: top;\n    }\n\n    .dataframe thead th {\n        text-align: right;\n    }\n</style>\n<table border=\"1\" class=\"dataframe\">\n  <thead>\n    <tr style=\"text-align: right;\">\n      <th></th>\n      <th>order_date</th>\n      <th>delivery_region</th>\n      <th>daily_small_trucks_needed</th>\n      <th>daily_large_trucks_needed</th>\n    </tr>\n  </thead>\n  <tbody>\n    <tr>\n      <th>706</th>\n      <td>2021-08-22</td>\n      <td>south_east</td>\n      <td>1</td>\n      <td>0</td>\n    </tr>\n    <tr>\n      <th>1169</th>\n      <td>2021-08-22</td>\n      <td>south_west</td>\n      <td>2</td>\n      <td>0</td>\n    </tr>\n    <tr>\n      <th>171</th>\n      <td>2021-08-22</td>\n      <td>greater_london</td>\n      <td>0</td>\n      <td>1</td>\n    </tr>\n    <tr>\n      <th>1170</th>\n      <td>2021-08-23</td>\n      <td>south_west</td>\n      <td>1</td>\n      <td>0</td>\n    </tr>\n    <tr>\n      <th>1403</th>\n      <td>2021-08-23</td>\n      <td>west_midlands</td>\n      <td>0</td>\n      <td>1</td>\n    </tr>\n    <tr>\n      <th>...</th>\n      <td>...</td>\n      <td>...</td>\n      <td>...</td>\n      <td>...</td>\n    </tr>\n    <tr>\n      <th>554</th>\n      <td>2023-04-09</td>\n      <td>greater_london</td>\n      <td>2</td>\n      <td>0</td>\n    </tr>\n    <tr>\n      <th>1401</th>\n      <td>2023-04-09</td>\n      <td>south_west</td>\n      <td>1</td>\n      <td>0</td>\n    </tr>\n    <tr>\n      <th>1402</th>\n      <td>2023-04-10</td>\n      <td>south_west</td>\n      <td>2</td>\n      <td>0</td>\n    </tr>\n    <tr>\n      <th>555</th>\n      <td>2023-04-10</td>\n      <td>greater_london</td>\n      <td>1</td>\n      <td>0</td>\n    </tr>\n    <tr>\n      <th>1045</th>\n      <td>2023-04-10</td>\n      <td>south_east</td>\n      <td>0</td>\n      <td>1</td>\n    </tr>\n  </tbody>\n</table>\n<p>1493 rows × 4 columns</p>\n</div>"
     },
     "execution_count": 47,
     "metadata": {},
     "output_type": "execute_result"
    }
   ],
   "source": [
    "# Initialize an empty list to store the aggregated records\n",
    "aggregated_data_daily = []\n",
    "\n",
    "# Loop through each unique combination of delivery_region and order_date\n",
    "for (region, date) in daily_demand_op_1.groupby(['delivery_region', 'order_date']).groups.keys():\n",
    "    region_date_data = daily_demand_op_1[(daily_demand_op_1['delivery_region'] == region) & (daily_demand_op_1['order_date'] == date)]\n",
    "\n",
    "    # Initialize counters for the number of trucks\n",
    "    daily_small_trucks = 0\n",
    "    daily_large_trucks = 0\n",
    "\n",
    "    # Calculate the number of small trucks needed\n",
    "    if 'small' in region_date_data['box_type'].values:\n",
    "        daily_small_box_count = region_date_data.loc[region_date_data['box_type'] == 'small', 'box_count'].values[0]\n",
    "\n",
    "        # Convert sets of 4 small boxes to a large truck\n",
    "        daily_large_trucks += daily_small_box_count // 4\n",
    "        remaining_small_boxes = daily_small_box_count % 4\n",
    "\n",
    "        # If there are 3 remaining small boxes, use a large truck\n",
    "        if remaining_small_boxes == 3:\n",
    "            daily_large_trucks += 1\n",
    "        # If there are 2 remaining small boxes, use two small trucks\n",
    "        if remaining_small_boxes == 2:\n",
    "            daily_small_trucks += 2\n",
    "        # If there is 1 remaining small box, use a small truck\n",
    "        elif remaining_small_boxes == 1:\n",
    "            daily_small_trucks += 1\n",
    "\n",
    "    # Calculate the number of large trucks needed\n",
    "    if 'large' in region_date_data['box_type'].values:\n",
    "        daily_large_box_count = region_date_data.loc[region_date_data['box_type'] == 'large', 'box_count'].values[0]\n",
    "        daily_large_trucks += daily_large_box_count\n",
    "\n",
    "    # Append the aggregated information to the list\n",
    "    aggregated_data_daily.append([date, region, daily_small_trucks, daily_large_trucks])\n",
    "\n",
    "# Convert the list to a DataFrame\n",
    "aggregated_df_daily = pd.DataFrame(aggregated_data_daily, columns=['order_date', 'delivery_region', 'daily_small_trucks_needed', 'daily_large_trucks_needed'])\n",
    "aggregated_df_daily = aggregated_df_daily.sort_values(by='order_date', ascending=True)\n",
    "\n",
    "aggregated_df_daily"
   ],
   "metadata": {
    "collapsed": false,
    "ExecuteTime": {
     "end_time": "2023-08-28T19:08:25.321812Z",
     "start_time": "2023-08-28T19:08:22.631185Z"
    }
   }
  },
  {
   "cell_type": "code",
   "execution_count": 48,
   "outputs": [
    {
     "data": {
      "text/plain": "    order_date  daily_small_trucks_needed  daily_large_trucks_needed\n0   2021-08-22                          3                          1\n1   2021-08-23                          4                          3\n2   2021-08-24                          7                          3\n3   2021-08-25                          6                          1\n4   2021-08-26                          3                          3\n..         ...                        ...                        ...\n592 2023-04-06                          3                          1\n593 2023-04-07                          4                          1\n594 2023-04-08                          2                          1\n595 2023-04-09                          3                          0\n596 2023-04-10                          3                          1\n\n[597 rows x 3 columns]",
      "text/html": "<div>\n<style scoped>\n    .dataframe tbody tr th:only-of-type {\n        vertical-align: middle;\n    }\n\n    .dataframe tbody tr th {\n        vertical-align: top;\n    }\n\n    .dataframe thead th {\n        text-align: right;\n    }\n</style>\n<table border=\"1\" class=\"dataframe\">\n  <thead>\n    <tr style=\"text-align: right;\">\n      <th></th>\n      <th>order_date</th>\n      <th>daily_small_trucks_needed</th>\n      <th>daily_large_trucks_needed</th>\n    </tr>\n  </thead>\n  <tbody>\n    <tr>\n      <th>0</th>\n      <td>2021-08-22</td>\n      <td>3</td>\n      <td>1</td>\n    </tr>\n    <tr>\n      <th>1</th>\n      <td>2021-08-23</td>\n      <td>4</td>\n      <td>3</td>\n    </tr>\n    <tr>\n      <th>2</th>\n      <td>2021-08-24</td>\n      <td>7</td>\n      <td>3</td>\n    </tr>\n    <tr>\n      <th>3</th>\n      <td>2021-08-25</td>\n      <td>6</td>\n      <td>1</td>\n    </tr>\n    <tr>\n      <th>4</th>\n      <td>2021-08-26</td>\n      <td>3</td>\n      <td>3</td>\n    </tr>\n    <tr>\n      <th>...</th>\n      <td>...</td>\n      <td>...</td>\n      <td>...</td>\n    </tr>\n    <tr>\n      <th>592</th>\n      <td>2023-04-06</td>\n      <td>3</td>\n      <td>1</td>\n    </tr>\n    <tr>\n      <th>593</th>\n      <td>2023-04-07</td>\n      <td>4</td>\n      <td>1</td>\n    </tr>\n    <tr>\n      <th>594</th>\n      <td>2023-04-08</td>\n      <td>2</td>\n      <td>1</td>\n    </tr>\n    <tr>\n      <th>595</th>\n      <td>2023-04-09</td>\n      <td>3</td>\n      <td>0</td>\n    </tr>\n    <tr>\n      <th>596</th>\n      <td>2023-04-10</td>\n      <td>3</td>\n      <td>1</td>\n    </tr>\n  </tbody>\n</table>\n<p>597 rows × 3 columns</p>\n</div>"
     },
     "execution_count": 48,
     "metadata": {},
     "output_type": "execute_result"
    }
   ],
   "source": [
    "# let's aggregate the count by date\n",
    "aggregated_df_grouped = aggregated_df_daily.groupby('order_date').agg({'daily_small_trucks_needed': 'sum', 'daily_large_trucks_needed': 'sum'}).reset_index()\n",
    "aggregated_df_grouped"
   ],
   "metadata": {
    "collapsed": false,
    "ExecuteTime": {
     "end_time": "2023-08-28T19:08:33.479218Z",
     "start_time": "2023-08-28T19:08:33.454724Z"
    }
   }
  },
  {
   "cell_type": "code",
   "execution_count": 49,
   "outputs": [
    {
     "name": "stdout",
     "output_type": "stream",
     "text": [
      "The total number of Small Trucks to purchase based on the historical dataset provided is: 8.\n",
      "--------------------------------------------------------\n",
      "The total number of Large Trucks to purchase based on the historical dataset provided is: 5.\n",
      "--------------------------------------------------------\n"
     ]
    }
   ],
   "source": [
    "# now, to see the maximum, we'd need to service the contract efficiently\n",
    "\n",
    "max_small_trucks = aggregated_df_grouped['daily_small_trucks_needed'].max()\n",
    "max_large_trucks = aggregated_df_grouped['daily_large_trucks_needed'].max()\n",
    "\n",
    "print(f\"The total number of Small Trucks to purchase based on the historical dataset provided is: {max_small_trucks}.\")\n",
    "print(f\"--------------------------------------------------------\")\n",
    "print(f\"The total number of Large Trucks to purchase based on the historical dataset provided is: {max_large_trucks}.\")\n",
    "print(f\"--------------------------------------------------------\")"
   ],
   "metadata": {
    "collapsed": false,
    "ExecuteTime": {
     "end_time": "2023-08-28T19:08:39.762427Z",
     "start_time": "2023-08-28T19:08:39.756183Z"
    }
   }
  },
  {
   "cell_type": "markdown",
   "source": [
    "# OPTION 2 - PRIORITISING SMALL TRUCKS TO MINIMISE EXPENDITURE\n",
    "## changing the function to increment small trucks more over large trucks (3 small boxes = 3 small trucks) only opting to increment by large truck when capacity (4 small boxes) is reached"
   ],
   "metadata": {
    "collapsed": false
   }
  },
  {
   "cell_type": "code",
   "execution_count": 50,
   "outputs": [],
   "source": [
    "# let's copy the estimated daily demand to calculate for OPTION 1\n",
    "daily_demand_op_2 = estimated_daily_demand.copy()"
   ],
   "metadata": {
    "collapsed": false,
    "ExecuteTime": {
     "end_time": "2023-08-28T19:10:14.096553Z",
     "start_time": "2023-08-28T19:10:14.084054Z"
    }
   }
  },
  {
   "cell_type": "code",
   "execution_count": 52,
   "outputs": [
    {
     "data": {
      "text/plain": "     order_date delivery_region  daily_small_trucks_needed  \\\n706  2021-08-22      south_east                          1   \n1169 2021-08-22      south_west                          2   \n171  2021-08-22  greater_london                          3   \n1170 2021-08-23      south_west                          1   \n1403 2021-08-23   west_midlands                          0   \n...         ...             ...                        ...   \n554  2023-04-09  greater_london                          2   \n1401 2023-04-09      south_west                          1   \n1402 2023-04-10      south_west                          2   \n555  2023-04-10  greater_london                          1   \n1045 2023-04-10      south_east                          0   \n\n      daily_large_trucks_needed  \n706                           0  \n1169                          0  \n171                           0  \n1170                          0  \n1403                          1  \n...                         ...  \n554                           0  \n1401                          0  \n1402                          0  \n555                           0  \n1045                          1  \n\n[1493 rows x 4 columns]",
      "text/html": "<div>\n<style scoped>\n    .dataframe tbody tr th:only-of-type {\n        vertical-align: middle;\n    }\n\n    .dataframe tbody tr th {\n        vertical-align: top;\n    }\n\n    .dataframe thead th {\n        text-align: right;\n    }\n</style>\n<table border=\"1\" class=\"dataframe\">\n  <thead>\n    <tr style=\"text-align: right;\">\n      <th></th>\n      <th>order_date</th>\n      <th>delivery_region</th>\n      <th>daily_small_trucks_needed</th>\n      <th>daily_large_trucks_needed</th>\n    </tr>\n  </thead>\n  <tbody>\n    <tr>\n      <th>706</th>\n      <td>2021-08-22</td>\n      <td>south_east</td>\n      <td>1</td>\n      <td>0</td>\n    </tr>\n    <tr>\n      <th>1169</th>\n      <td>2021-08-22</td>\n      <td>south_west</td>\n      <td>2</td>\n      <td>0</td>\n    </tr>\n    <tr>\n      <th>171</th>\n      <td>2021-08-22</td>\n      <td>greater_london</td>\n      <td>3</td>\n      <td>0</td>\n    </tr>\n    <tr>\n      <th>1170</th>\n      <td>2021-08-23</td>\n      <td>south_west</td>\n      <td>1</td>\n      <td>0</td>\n    </tr>\n    <tr>\n      <th>1403</th>\n      <td>2021-08-23</td>\n      <td>west_midlands</td>\n      <td>0</td>\n      <td>1</td>\n    </tr>\n    <tr>\n      <th>...</th>\n      <td>...</td>\n      <td>...</td>\n      <td>...</td>\n      <td>...</td>\n    </tr>\n    <tr>\n      <th>554</th>\n      <td>2023-04-09</td>\n      <td>greater_london</td>\n      <td>2</td>\n      <td>0</td>\n    </tr>\n    <tr>\n      <th>1401</th>\n      <td>2023-04-09</td>\n      <td>south_west</td>\n      <td>1</td>\n      <td>0</td>\n    </tr>\n    <tr>\n      <th>1402</th>\n      <td>2023-04-10</td>\n      <td>south_west</td>\n      <td>2</td>\n      <td>0</td>\n    </tr>\n    <tr>\n      <th>555</th>\n      <td>2023-04-10</td>\n      <td>greater_london</td>\n      <td>1</td>\n      <td>0</td>\n    </tr>\n    <tr>\n      <th>1045</th>\n      <td>2023-04-10</td>\n      <td>south_east</td>\n      <td>0</td>\n      <td>1</td>\n    </tr>\n  </tbody>\n</table>\n<p>1493 rows × 4 columns</p>\n</div>"
     },
     "execution_count": 52,
     "metadata": {},
     "output_type": "execute_result"
    }
   ],
   "source": [
    "# Initialize an empty list to store the aggregated records\n",
    "aggregated_data_daily_op_2 = []\n",
    "\n",
    "# Loop through each unique combination of delivery_region and order_date\n",
    "for (region, date) in daily_demand_op_2.groupby(['delivery_region', 'order_date']).groups.keys():\n",
    "    region_date_data_op_2 = daily_demand_op_2[(daily_demand_op_2['delivery_region'] == region) & (daily_demand_op_2['order_date'] == date)]\n",
    "\n",
    "    # Initialize counters for the number of trucks\n",
    "    daily_small_trucks_op_2 = 0\n",
    "    daily_large_trucks_op_2 = 0\n",
    "\n",
    "    # Calculate the number of small trucks needed\n",
    "    if 'small' in region_date_data_op_2['box_type'].values:\n",
    "        daily_small_box_count_op_2 = region_date_data_op_2.loc[region_date_data_op_2['box_type'] == 'small', 'box_count'].values[0]\n",
    "\n",
    "        # Convert sets of 4 small boxes to a large truck\n",
    "        daily_large_trucks_op_2 += daily_small_box_count_op_2 // 4\n",
    "        remaining_small_boxes_op_2 = daily_small_box_count_op_2 % 4\n",
    "\n",
    "        # If there are 1, 2, or 3 remaining small boxes, increment small trucks by that number\n",
    "        if remaining_small_boxes_op_2 in [1, 2, 3]:\n",
    "            daily_small_trucks_op_2 += remaining_small_boxes_op_2\n",
    "\n",
    "    # Calculate the number of large trucks needed\n",
    "    if 'large' in region_date_data_op_2['box_type'].values:\n",
    "        daily_large_box_count_op_2 = region_date_data_op_2.loc[region_date_data_op_2['box_type'] == 'large', 'box_count'].values[0]\n",
    "        daily_large_trucks_op_2 += daily_large_box_count_op_2\n",
    "\n",
    "    # Append the aggregated information to the list\n",
    "    aggregated_data_daily_op_2.append([date, region, daily_small_trucks_op_2, daily_large_trucks_op_2])\n",
    "\n",
    "# Convert the list to a DataFrame\n",
    "aggregated_df_daily_op_2 = pd.DataFrame(aggregated_data_daily_op_2, columns=['order_date', 'delivery_region', 'daily_small_trucks_needed', 'daily_large_trucks_needed'])\n",
    "aggregated_df_daily_op_2 = aggregated_df_daily_op_2.sort_values(by='order_date', ascending=True)\n",
    "\n",
    "aggregated_df_daily_op_2"
   ],
   "metadata": {
    "collapsed": false,
    "ExecuteTime": {
     "end_time": "2023-08-28T19:22:43.256728Z",
     "start_time": "2023-08-28T19:22:41.927694Z"
    }
   }
  },
  {
   "cell_type": "code",
   "execution_count": 53,
   "outputs": [
    {
     "data": {
      "text/plain": "    order_date  daily_small_trucks_needed  daily_large_trucks_needed\n0   2021-08-22                          6                          0\n1   2021-08-23                          4                          3\n2   2021-08-24                          7                          3\n3   2021-08-25                          6                          1\n4   2021-08-26                          3                          3\n..         ...                        ...                        ...\n592 2023-04-06                          3                          1\n593 2023-04-07                          7                          0\n594 2023-04-08                          2                          1\n595 2023-04-09                          3                          0\n596 2023-04-10                          3                          1\n\n[597 rows x 3 columns]",
      "text/html": "<div>\n<style scoped>\n    .dataframe tbody tr th:only-of-type {\n        vertical-align: middle;\n    }\n\n    .dataframe tbody tr th {\n        vertical-align: top;\n    }\n\n    .dataframe thead th {\n        text-align: right;\n    }\n</style>\n<table border=\"1\" class=\"dataframe\">\n  <thead>\n    <tr style=\"text-align: right;\">\n      <th></th>\n      <th>order_date</th>\n      <th>daily_small_trucks_needed</th>\n      <th>daily_large_trucks_needed</th>\n    </tr>\n  </thead>\n  <tbody>\n    <tr>\n      <th>0</th>\n      <td>2021-08-22</td>\n      <td>6</td>\n      <td>0</td>\n    </tr>\n    <tr>\n      <th>1</th>\n      <td>2021-08-23</td>\n      <td>4</td>\n      <td>3</td>\n    </tr>\n    <tr>\n      <th>2</th>\n      <td>2021-08-24</td>\n      <td>7</td>\n      <td>3</td>\n    </tr>\n    <tr>\n      <th>3</th>\n      <td>2021-08-25</td>\n      <td>6</td>\n      <td>1</td>\n    </tr>\n    <tr>\n      <th>4</th>\n      <td>2021-08-26</td>\n      <td>3</td>\n      <td>3</td>\n    </tr>\n    <tr>\n      <th>...</th>\n      <td>...</td>\n      <td>...</td>\n      <td>...</td>\n    </tr>\n    <tr>\n      <th>592</th>\n      <td>2023-04-06</td>\n      <td>3</td>\n      <td>1</td>\n    </tr>\n    <tr>\n      <th>593</th>\n      <td>2023-04-07</td>\n      <td>7</td>\n      <td>0</td>\n    </tr>\n    <tr>\n      <th>594</th>\n      <td>2023-04-08</td>\n      <td>2</td>\n      <td>1</td>\n    </tr>\n    <tr>\n      <th>595</th>\n      <td>2023-04-09</td>\n      <td>3</td>\n      <td>0</td>\n    </tr>\n    <tr>\n      <th>596</th>\n      <td>2023-04-10</td>\n      <td>3</td>\n      <td>1</td>\n    </tr>\n  </tbody>\n</table>\n<p>597 rows × 3 columns</p>\n</div>"
     },
     "execution_count": 53,
     "metadata": {},
     "output_type": "execute_result"
    }
   ],
   "source": [
    "# let's aggregate the count by date\n",
    "aggregated_df_grouped_op_2 = aggregated_df_daily_op_2.groupby('order_date').agg({'daily_small_trucks_needed': 'sum', 'daily_large_trucks_needed': 'sum'}).reset_index()\n",
    "aggregated_df_grouped_op_2"
   ],
   "metadata": {
    "collapsed": false,
    "ExecuteTime": {
     "end_time": "2023-08-28T19:24:34.192958Z",
     "start_time": "2023-08-28T19:24:34.166481Z"
    }
   }
  },
  {
   "cell_type": "code",
   "execution_count": 63,
   "outputs": [
    {
     "data": {
      "text/plain": "(3, 1)"
     },
     "execution_count": 63,
     "metadata": {},
     "output_type": "execute_result"
    }
   ],
   "source": [
    "# CHECKING AVERAGES...... WOULDN'T WORK AS YOU'D HAVE A HUGE DEFICIT\n",
    "\n",
    "avg_small_trucks_needed_op_2 = math.ceil(aggregated_df_grouped_op_2['daily_small_trucks_needed'].mean())\n",
    "avg_large_trucks_needed_op_2 = math.ceil(aggregated_df_grouped_op_2['daily_large_trucks_needed'].mean())\n",
    "\n",
    "avg_small_trucks_needed_op_2, avg_large_trucks_needed_op_2"
   ],
   "metadata": {
    "collapsed": false,
    "ExecuteTime": {
     "end_time": "2023-08-28T19:45:30.594493Z",
     "start_time": "2023-08-28T19:45:30.577638Z"
    }
   }
  },
  {
   "cell_type": "code",
   "execution_count": 54,
   "outputs": [
    {
     "name": "stdout",
     "output_type": "stream",
     "text": [
      "The total number of Small Trucks to purchase based on the historical dataset provided is: 8.\n",
      "--------------------------------------------------------\n",
      "The total number of Large Trucks to purchase based on the historical dataset provided is: 5.\n",
      "--------------------------------------------------------\n"
     ]
    }
   ],
   "source": [
    "# now, to see the maximum, we'd need to service the contract efficiently\n",
    "\n",
    "max_small_trucks_op_2 = aggregated_df_grouped_op_2['daily_small_trucks_needed'].max()\n",
    "max_large_trucks_op_2 = aggregated_df_grouped_op_2['daily_large_trucks_needed'].max()\n",
    "\n",
    "print(f\"The total number of Small Trucks to purchase based on the historical dataset provided is: {max_small_trucks_op_2}.\")\n",
    "print(f\"--------------------------------------------------------\")\n",
    "print(f\"The total number of Large Trucks to purchase based on the historical dataset provided is: {max_large_trucks_op_2}.\")\n",
    "print(f\"--------------------------------------------------------\")"
   ],
   "metadata": {
    "collapsed": false,
    "ExecuteTime": {
     "end_time": "2023-08-28T19:27:09.990010Z",
     "start_time": "2023-08-28T19:27:09.966383Z"
    }
   }
  },
  {
   "cell_type": "markdown",
   "source": [
    "# CONCLUSION\n",
    "### Both options proved the same"
   ],
   "metadata": {
    "collapsed": false
   }
  },
  {
   "cell_type": "code",
   "execution_count": null,
   "outputs": [],
   "source": [],
   "metadata": {
    "collapsed": false
   }
  },
  {
   "cell_type": "code",
   "execution_count": null,
   "outputs": [],
   "source": [
    "# orders per year & y/y\n",
    "# orders per month & m/m"
   ],
   "metadata": {
    "collapsed": false
   }
  },
  {
   "cell_type": "code",
   "execution_count": null,
   "outputs": [],
   "source": [],
   "metadata": {
    "collapsed": false
   }
  },
  {
   "cell_type": "code",
   "execution_count": null,
   "outputs": [],
   "source": [
    "# NOT MY CODE - working out averages (compare with my code)\n",
    "\n",
    "import pandas as pd\n",
    "\n",
    "# Load the CSV file\n",
    "df = pd.read_csv('path_to_your_file.csv')\n",
    "\n",
    "# Calculate the daily demand for small and large boxes in each region\n",
    "daily_demand = df.groupby(['order_date', 'delivery_region', 'box_type']).size().reset_index(name='count')\n",
    "\n",
    "# Calculate the average daily demand per region and per box type\n",
    "avg_daily_demand = daily_demand.groupby(['delivery_region', 'box_type']).agg({'count': 'mean'}).reset_index()\n",
    "\n",
    "# Rename the column to be more descriptive\n",
    "avg_daily_demand.rename(columns={'count': 'avg_daily_demand'}, inplace=True)\n",
    "\n",
    "print(avg_daily_demand)"
   ],
   "metadata": {
    "collapsed": false
   }
  },
  {
   "cell_type": "code",
   "execution_count": null,
   "outputs": [],
   "source": [
    "import math\n",
    "\n",
    "def calculate_trucks_needed(avg_daily_demand):\n",
    "    # Initialize variables to keep track of total trucks needed\n",
    "    total_small_trucks = 0\n",
    "    total_large_trucks = 0\n",
    "\n",
    "    # Loop through each region\n",
    "    for region in avg_daily_demand['delivery_region'].unique():\n",
    "        # Filter average daily demand for the current region\n",
    "        region_data = avg_daily_demand[avg_daily_demand['delivery_region'] == region]\n",
    "\n",
    "        # Initialize variables to keep track of trucks needed for the current region\n",
    "        region_small_trucks = 0\n",
    "        region_large_trucks = 0\n",
    "\n",
    "        # Calculate trucks needed for small boxes\n",
    "        small_boxes_demand = region_data.loc[region_data['box_type'] == 'small', 'avg_daily_demand'].values[0]\n",
    "        region_large_trucks += math.ceil(small_boxes_demand / 4)\n",
    "\n",
    "        # Check if an additional small truck is needed for remaining small boxes\n",
    "        if small_boxes_demand % 4 != 0:\n",
    "            region_small_trucks += 1\n",
    "\n",
    "        # Calculate trucks needed for large boxes\n",
    "        large_boxes_demand = region_data.loc[region_data['box_type'] == 'large', 'avg_daily_demand'].values[0]\n",
    "        region_large_trucks += large_boxes_demand\n",
    "\n",
    "        # Update total trucks needed\n",
    "        total_small_trucks += region_small_trucks\n",
    "        total_large_trucks += region_large_trucks\n",
    "\n",
    "        print(f\"For region {region}: {region_small_trucks} small trucks and {region_large_trucks} large trucks are needed.\")\n",
    "\n",
    "    print(f\"Total small trucks needed: {total_small_trucks}\")\n",
    "    print(f\"Total large trucks needed: {total_large_trucks}\")\n",
    "\n",
    "calculate_trucks_needed(avg_daily_demand)"
   ],
   "metadata": {
    "collapsed": false
   }
  }
 ],
 "metadata": {
  "kernelspec": {
   "display_name": "Python 3",
   "language": "python",
   "name": "python3"
  },
  "language_info": {
   "codemirror_mode": {
    "name": "ipython",
    "version": 2
   },
   "file_extension": ".py",
   "mimetype": "text/x-python",
   "name": "python",
   "nbconvert_exporter": "python",
   "pygments_lexer": "ipython2",
   "version": "2.7.6"
  }
 },
 "nbformat": 4,
 "nbformat_minor": 0
}
